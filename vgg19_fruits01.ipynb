{
  "cells": [
    {
      "cell_type": "markdown",
      "metadata": {
        "id": "view-in-github",
        "colab_type": "text"
      },
      "source": [
        "<a href=\"https://colab.research.google.com/github/pscabral/IFMA_Softex/blob/main/vgg19_fruits01.ipynb\" target=\"_parent\"><img src=\"https://colab.research.google.com/assets/colab-badge.svg\" alt=\"Open In Colab\"/></a>"
      ]
    },
    {
      "cell_type": "code",
      "execution_count": 3,
      "metadata": {
        "id": "AjdrZ7d24yjR"
      },
      "outputs": [],
      "source": [
        "import numpy as np\n",
        "import pandas as pd\n",
        "import matplotlib.pyplot as plt\n",
        "import seaborn as sns\n",
        "import cv2\n",
        "import os\n",
        "from sklearn.model_selection import train_test_split\n",
        "from keras.preprocessing.image import ImageDataGenerator\n",
        "%matplotlib inline\n",
        "sns.set(style=\"white\")\n",
        "sns.set(style=\"whitegrid\", color_codes=True)"
      ]
    },
    {
      "cell_type": "code",
      "execution_count": 4,
      "metadata": {
        "id": "se6H_Pg942WD"
      },
      "outputs": [],
      "source": [
        "train_dir='/content/produtos/train'\n",
        "test_dir='/content/produtos/test'"
      ]
    },
    {
      "cell_type": "code",
      "execution_count": 5,
      "metadata": {
        "id": "ivBcrB-m5B-Z"
      },
      "outputs": [],
      "source": [
        "traindf=pd.DataFrame(columns=['img_path','class'])\n",
        "test_df=pd.DataFrame(columns=['img_path','class'])"
      ]
    },
    {
      "cell_type": "code",
      "execution_count": 6,
      "metadata": {
        "id": "vvEnAXf35GSM"
      },
      "outputs": [],
      "source": [
        "traindf = pd.DataFrame(columns=['img_path', 'class'])\n",
        "\n",
        "for className in os.listdir(train_dir):\n",
        "    for filename in os.listdir(os.path.join(train_dir, className)):\n",
        "        img_path = os.path.join(train_dir, className, filename)\n",
        "        data_to_append = pd.DataFrame({'img_path': [img_path], 'class': [className]})\n",
        "        traindf = pd.concat([traindf, data_to_append], ignore_index=True)"
      ]
    },
    {
      "cell_type": "code",
      "execution_count": 7,
      "metadata": {
        "id": "gSAC_ak55yqZ"
      },
      "outputs": [],
      "source": [
        "test_df = pd.DataFrame(columns=['img_path', 'class'])\n",
        "\n",
        "for className in os.listdir(test_dir):\n",
        "    for filename in os.listdir(os.path.join(test_dir, className)):\n",
        "        img_path = os.path.join(test_dir, className, filename)\n",
        "        data_to_append = pd.DataFrame({'img_path': [img_path], 'class': [className]})\n",
        "        test_df = pd.concat([test_df, data_to_append], ignore_index=True)\n"
      ]
    },
    {
      "cell_type": "code",
      "execution_count": 8,
      "metadata": {
        "colab": {
          "base_uri": "https://localhost:8080/"
        },
        "id": "SbO8VLFw6dzR",
        "outputId": "ae61aa69-32dc-4326-969e-757a3d998436"
      },
      "outputs": [
        {
          "output_type": "execute_result",
          "data": {
            "text/plain": [
              "(10608, 1706, 1179)"
            ]
          },
          "metadata": {},
          "execution_count": 8
        }
      ],
      "source": [
        "train_df,valid_df=train_test_split(traindf,test_size=0.1,random_state=0)\n",
        "len(train_df), len(test_df), len(valid_df)"
      ]
    },
    {
      "cell_type": "code",
      "execution_count": null,
      "metadata": {
        "id": "KZqKz9xx6h5o"
      },
      "outputs": [],
      "source": [
        "print(train_df.info())"
      ]
    },
    {
      "cell_type": "code",
      "execution_count": null,
      "metadata": {
        "id": "ppKrtJKt6uZB"
      },
      "outputs": [],
      "source": [
        "print(train_df.head())"
      ]
    },
    {
      "cell_type": "code",
      "execution_count": null,
      "metadata": {
        "id": "uaDxKoZo63za"
      },
      "outputs": [],
      "source": [
        "print(test_df.info())"
      ]
    },
    {
      "cell_type": "code",
      "execution_count": null,
      "metadata": {
        "id": "2an0O1KJ6-Wl"
      },
      "outputs": [],
      "source": [
        "print(valid_df.info())"
      ]
    },
    {
      "cell_type": "code",
      "execution_count": null,
      "metadata": {
        "id": "Yyw7SHB57EXj"
      },
      "outputs": [],
      "source": [
        "tf=train_df['class'].value_counts().to_frame().reset_index()\n",
        "tf.rename(columns={\"index\": \"class\", \"class\": \"train_counts\"},inplace=True)\n",
        "tf1=test_df['class'].value_counts().to_frame().reset_index()\n",
        "tf1.rename(columns={\"index\": \"class\", \"class\": \"test_counts\"},inplace=True)\n",
        "tf2=valid_df['class'].value_counts().to_frame().reset_index()\n",
        "tf2.rename(columns={\"index\": \"class\", \"class\": \"valid_counts\"},inplace=True)\n",
        "df=pd.merge(tf,tf1,on='class')\n",
        "df=pd.merge(df,tf2,on='class')\n",
        "df"
      ]
    },
    {
      "cell_type": "code",
      "execution_count": null,
      "metadata": {
        "id": "NJ4TNdHV7QV3"
      },
      "outputs": [],
      "source": [
        "plt.figure(figsize=(20,30))\n",
        "g=sns.countplot(y='class',data=train_df)\n",
        "#g.set_xticklabels(g.get_xticklabels(), rotation=90)"
      ]
    },
    {
      "cell_type": "code",
      "execution_count": null,
      "metadata": {
        "id": "-tUFQbzu7Wta"
      },
      "outputs": [],
      "source": [
        "tf=train_df['class'].value_counts()[:10]\n",
        "tf=tf.to_frame().reset_index()\n",
        "tf.rename(columns={\"index\": \"class\", \"class\": \"counts\"},inplace=True)\n",
        "plt.figure(figsize=(15,5))\n",
        "g=sns.barplot(x='class',y='counts',data=tf)"
      ]
    },
    {
      "cell_type": "code",
      "execution_count": null,
      "metadata": {
        "id": "Jh86bQH-7bE7"
      },
      "outputs": [],
      "source": [
        "tf=train_df['class'].value_counts()[-11:-1]\n",
        "tf=tf.to_frame().reset_index()\n",
        "tf.rename(columns={\"index\": \"class\", \"class\": \"counts\"},inplace=True)\n",
        "plt.figure(figsize=(15,5))\n",
        "g=sns.barplot(x='class',y='counts',data=tf)"
      ]
    },
    {
      "cell_type": "code",
      "execution_count": null,
      "metadata": {
        "id": "eESLTCtq7bJ3"
      },
      "outputs": [],
      "source": [
        "tf=test_df['class'].value_counts()[:10]\n",
        "tf=tf.to_frame().reset_index()\n",
        "tf.rename(columns={\"index\": \"class\", \"class\": \"counts\"},inplace=True)\n",
        "plt.figure(figsize=(20,5))\n",
        "g=sns.barplot(x='class',y='counts',data=tf)"
      ]
    },
    {
      "cell_type": "code",
      "execution_count": null,
      "metadata": {
        "id": "XLpalUCZ7jWe"
      },
      "outputs": [],
      "source": [
        "tf=test_df['class'].value_counts()[-10:-1]\n",
        "tf=tf.to_frame().reset_index()\n",
        "tf.rename(columns={\"index\": \"class\", \"class\": \"counts\"},inplace=True)\n",
        "plt.figure(figsize=(15,5))\n",
        "g=sns.barplot(x='class',y='counts',data=tf)"
      ]
    },
    {
      "cell_type": "code",
      "execution_count": null,
      "metadata": {
        "id": "VKQlPCcZ8F2Y"
      },
      "outputs": [],
      "source": [
        "img_index = 0  # Índice da imagem desejada\n",
        "\n",
        "if 0 <= img_index < len(train_df):\n",
        "    img_path = train_df['img_path'].iloc[img_index]\n",
        "    img = cv2.imread(img_path)\n",
        "\n",
        "    if img is not None:\n",
        "        img = cv2.cvtColor(img, cv2.COLOR_BGR2RGB)\n",
        "        print(f'O tamanho da imagem é {img.shape}')\n",
        "    else:\n",
        "        print(f'Não foi possível carregar a imagem em {img_path}')\n",
        "else:\n",
        "    print(f'Índice {img_index} fora do intervalo válido para o DataFrame.')"
      ]
    },
    {
      "cell_type": "code",
      "execution_count": null,
      "metadata": {
        "id": "jnDIr-vC9LgY"
      },
      "outputs": [],
      "source": [
        "import cv2\n",
        "import numpy as np\n",
        "import matplotlib.pyplot as plt\n",
        "\n",
        "plt.figure(figsize=(20, 10))\n",
        "\n",
        "for i in range(10):\n",
        "    rand_int = np.random.randint(0, len(train_df))\n",
        "    img = cv2.imread(train_df['img_path'].iloc[rand_int])\n",
        "    img = cv2.cvtColor(img, cv2.COLOR_BGR2RGB)\n",
        "\n",
        "    plt.subplot(2, 5, i + 1)\n",
        "    plt.imshow(img)\n",
        "    plt.title(train_df['class'].iloc[rand_int])\n",
        "\n",
        "plt.show()\n"
      ]
    },
    {
      "cell_type": "code",
      "execution_count": null,
      "metadata": {
        "id": "HZQSFQwK9Sgy"
      },
      "outputs": [],
      "source": [
        "fig,axes=plt.subplots(1,3,figsize=(15,5))\n",
        "g1=sns.histplot(data=img[:,:,0].ravel(),ax=axes[0])\n",
        "g2=sns.histplot(data=img[:,:,1].ravel(),ax=axes[1])\n",
        "g3=sns.histplot(data=img[:,:,2].ravel(),ax=axes[2])"
      ]
    },
    {
      "cell_type": "code",
      "execution_count": null,
      "metadata": {
        "id": "5ipi1ciX9XDK"
      },
      "outputs": [],
      "source": [
        "train_df.head(100)"
      ]
    },
    {
      "cell_type": "code",
      "execution_count": null,
      "metadata": {
        "id": "J1R6ZM4-9r7v"
      },
      "outputs": [],
      "source": [
        "train_datagen=ImageDataGenerator(rescale=1./255)\n",
        "test_datagen=ImageDataGenerator(rescale=1./255)\n",
        "\n",
        "train_generator=train_datagen.flow_from_dataframe(\n",
        "dataframe=train_df,\n",
        "x_col=\"img_path\",\n",
        "y_col='class',\n",
        "batch_size=32,\n",
        "seed=42,\n",
        "shuffle=True,\n",
        "class_mode=\"categorical\",target_size=(224,224))\n",
        "\n",
        "validation_generator=train_datagen.flow_from_dataframe(\n",
        "dataframe=valid_df,\n",
        "x_col=\"img_path\",\n",
        "y_col='class',\n",
        "batch_size=32,\n",
        "seed=42,\n",
        "shuffle=True,\n",
        "class_mode=\"categorical\",target_size=(224,224))\n",
        "\n",
        "test_generator=test_datagen.flow_from_dataframe(\n",
        "dataframe=test_df,\n",
        "x_col=\"img_path\",\n",
        "y_col='class',\n",
        "batch_size=1,\n",
        "seed=42,\n",
        "shuffle=True,\n",
        "class_mode=\"categorical\",target_size=(224,224))"
      ]
    },
    {
      "cell_type": "code",
      "execution_count": null,
      "metadata": {
        "id": "ZggQFwXf9x3o"
      },
      "outputs": [],
      "source": [
        "train_generator.image_shape"
      ]
    },
    {
      "cell_type": "code",
      "execution_count": null,
      "metadata": {
        "id": "zNLe6N-L904k"
      },
      "outputs": [],
      "source": [
        "img1=train_generator.next()[0]\n",
        "fig=plt.imshow(img1[0,:,:,:])"
      ]
    },
    {
      "cell_type": "code",
      "execution_count": 27,
      "metadata": {
        "id": "HZ1O3M8995w0"
      },
      "outputs": [],
      "source": [
        "from keras.applications.vgg16 import VGG16, preprocess_input\n",
        "from keras import layers\n",
        "from keras.models import Model\n",
        "from keras.callbacks import EarlyStopping\n",
        "import keras"
      ]
    },
    {
      "cell_type": "code",
      "execution_count": 28,
      "metadata": {
        "id": "K96rZd5K9-9g",
        "colab": {
          "base_uri": "https://localhost:8080/"
        },
        "outputId": "1ee52298-fc52-4f87-f7e7-4e0bdc384010"
      },
      "outputs": [
        {
          "output_type": "stream",
          "name": "stdout",
          "text": [
            "Downloading data from https://storage.googleapis.com/tensorflow/keras-applications/vgg16/vgg16_weights_tf_dim_ordering_tf_kernels.h5\n",
            "553467096/553467096 [==============================] - 7s 0us/step\n"
          ]
        }
      ],
      "source": [
        "model=VGG16(input_shape=(224,224,3), weights='imagenet')\n",
        "earlystopping = EarlyStopping(monitor='val_loss', mode='min',verbose=1, patience=3 )"
      ]
    },
    {
      "cell_type": "code",
      "execution_count": 29,
      "metadata": {
        "id": "FoFOYDet-DLQ"
      },
      "outputs": [],
      "source": [
        "for layer in model.layers[:-1]:\n",
        "    layer.trainable=False\n",
        "#for layer in model.layers[15:]:\n",
        "    #layer.trainable=True"
      ]
    },
    {
      "cell_type": "code",
      "execution_count": null,
      "metadata": {
        "id": "Ws_uVMOg-GgC"
      },
      "outputs": [],
      "source": [
        "model.summary()"
      ]
    },
    {
      "cell_type": "code",
      "execution_count": 31,
      "metadata": {
        "id": "4shxIdqk-Mlp"
      },
      "outputs": [],
      "source": [
        "pretrained_last_layer=model.get_layer(name=model.layers[-2].name)\n",
        "pretrained_output=pretrained_last_layer.output\n",
        "next_layer= layers.Dense(33, activation='softmax')(pretrained_output)\n",
        "pretrained_vgg = Model(model.input, next_layer)"
      ]
    },
    {
      "cell_type": "code",
      "execution_count": null,
      "metadata": {
        "id": "KL96nNuU-Qut"
      },
      "outputs": [],
      "source": [
        "pretrained_vgg.summary()"
      ]
    },
    {
      "cell_type": "code",
      "execution_count": 34,
      "metadata": {
        "id": "tndStcnT-UvM"
      },
      "outputs": [],
      "source": [
        "pretrained_vgg.compile(loss=keras.losses.categorical_crossentropy,optimizer=keras.optimizers.Adam() ,metrics=['accuracy'])"
      ]
    },
    {
      "cell_type": "code",
      "execution_count": 35,
      "metadata": {
        "colab": {
          "base_uri": "https://localhost:8080/"
        },
        "id": "MTTdYcA3-YNp",
        "outputId": "80b60aff-770a-4445-d344-94f919dff47b"
      },
      "outputs": [
        {
          "output_type": "stream",
          "name": "stdout",
          "text": [
            "Epoch 1/3\n",
            "332/332 [==============================] - 4421s 13s/step - loss: 1.7033 - accuracy: 0.5946 - val_loss: 0.8231 - val_accuracy: 0.8092\n",
            "Epoch 2/3\n",
            "332/332 [==============================] - 4441s 13s/step - loss: 0.5862 - accuracy: 0.8887 - val_loss: 0.4199 - val_accuracy: 0.9075\n",
            "Epoch 3/3\n",
            "332/332 [==============================] - 4428s 13s/step - loss: 0.3211 - accuracy: 0.9545 - val_loss: 0.2793 - val_accuracy: 0.9567\n"
          ]
        }
      ],
      "source": [
        "batch_size=64\n",
        "history=pretrained_vgg.fit(train_generator,validation_data=validation_generator,epochs=3,callbacks=earlystopping)"
      ]
    },
    {
      "cell_type": "code",
      "source": [
        "model_finetune=VGG16(input_shape=(224,224,3),include_top=False, weights='imagenet')\n",
        "print(f'The total number of layers in VGG16 is {len(model_finetune.layers)}.')\n",
        "print(f'The last layer in model is {model_finetune.layers[-1].name}.')\n",
        "print(f'The weights upto layer 14 which is {model_finetune.layers[14].name} will remain pretrained. ')\n",
        "for layer in model_finetune.layers[:15]:\n",
        "    layer.trainable=False\n",
        "for layer in model_finetune.layers[15:]:\n",
        "    layer.trainable=True\n",
        "model_finetune.summary()"
      ],
      "metadata": {
        "id": "NISDaNF9ytvG"
      },
      "execution_count": null,
      "outputs": []
    },
    {
      "cell_type": "code",
      "source": [
        "# Salva os pesos do modelo no diretório '/content/' com o nome 'deneme.h5'.\n",
        "model.save_weights('/content/deneme.h5')"
      ],
      "metadata": {
        "id": "Apd_lztD6ri5"
      },
      "execution_count": 42,
      "outputs": []
    },
    {
      "cell_type": "code",
      "source": [
        "from tensorflow import keras\n",
        "# Salvar o modelo treinado em um arquivo HDF5\n",
        "pretrained_vgg.save('modelo_treinado.h5')\n",
        "\n",
        "# Carregar o modelo a partir do arquivo HDF5\n",
        "#modelo_carregado = keras.models.load_model('modelo_treinado.h5')\n",
        ""
      ],
      "metadata": {
        "colab": {
          "base_uri": "https://localhost:8080/"
        },
        "id": "pnq963FN-qoa",
        "outputId": "77b04527-f03f-492e-c462-d567fd539f62"
      },
      "execution_count": 46,
      "outputs": [
        {
          "output_type": "stream",
          "name": "stderr",
          "text": [
            "/usr/local/lib/python3.10/dist-packages/keras/src/engine/training.py:3079: UserWarning: You are saving your model as an HDF5 file via `model.save()`. This file format is considered legacy. We recommend using instead the native Keras format, e.g. `model.save('my_model.keras')`.\n",
            "  saving_api.save_model(\n"
          ]
        }
      ]
    },
    {
      "cell_type": "code",
      "source": [
        "# Plot training curves\n",
        "plt.grid(which='major', axis='both')\n",
        "x = [1,2,3,4,5,6,7,8,9,10]\n",
        "\n",
        "# Plot training accuracy\n",
        "plt.plot(history.history['accuracy'])\n",
        "plt.plot(history.history['val_accuracy'])\n",
        "plt.title('Model Accuracy')\n",
        "plt.ylabel('Accuracy')\n",
        "plt.xlabel('Epoch')\n",
        "plt.xticks(x)\n",
        "plt.legend(['Train', 'Validation'], loc='lower right')\n",
        "plt.grid(which='major', axis='both')\n",
        "plt.savefig('fruits_classifier-training_acc.png')\n",
        "plt.show()\n",
        "\n",
        "# Plot training loss\n",
        "plt.plot(history.history['loss'])\n",
        "plt.plot(history.history['val_loss'])\n",
        "plt.title('Model Loss')\n",
        "plt.ylabel('Loss')\n",
        "plt.xlabel('Epoch')\n",
        "plt.xticks(x)\n",
        "plt.legend(['Train', 'Validation'], loc='upper right')\n",
        "plt.grid(which='major', axis='both')\n",
        "plt.savefig('fruits_classifier-training_loss.png')\n",
        "plt.show()"
      ],
      "metadata": {
        "colab": {
          "base_uri": "https://localhost:8080/",
          "height": 943
        },
        "id": "vm4UETZVSCPj",
        "outputId": "ee21724b-4a72-475e-a949-7244343bea02"
      },
      "execution_count": 50,
      "outputs": [
        {
          "output_type": "display_data",
          "data": {
            "text/plain": [
              "<Figure size 640x480 with 1 Axes>"
            ],
            "image/png": "[encoded data removed]"
          },
          "metadata": {}
        },
        {
          "output_type": "display_data",
          "data": {
            "text/plain": [
              "<Figure size 640x480 with 1 Axes>"
            ],
            "image/png": "[encoded data removed]"
          },
          "metadata": {}
        }
      ]
    },
    {
      "cell_type": "code",
      "source": [
        "import numpy as np\n",
        "from sklearn.metrics import accuracy_score, classification_report\n",
        "\n",
        "# Carregue seus dados de teste (x_test) e rótulos (y_test) aqui\n",
        "# Substitua as linhas abaixo pelas instruções reais de carregamento dos seus dados:\n",
        "\n",
        "# x_test = ...\n",
        "# y_test = ...\n",
        "\n",
        "# Agora você pode prosseguir com o código de avaliação\n",
        "\n",
        "print(\"[INFO] Avaliando os dados de teste\")\n",
        "\n",
        "results = model.evaluate(x=x_test, y=y_test, batch_size=batch_size, verbose=1)\n",
        "print('Perda de teste, Acurácia de teste: ', [round(r, 4) for r in results])\n",
        "\n",
        "y_pred = model.predict(x_test)\n",
        "y_pred = np.argmax(y_pred, axis=1)\n",
        "\n",
        "print('Acurácia', round(accuracy_score(y_test, y_pred), 4))\n",
        "print('Relatório de classificação', classification_report(y_test, y_pred, target_names=class_names))\n"
      ],
      "metadata": {
        "colab": {
          "base_uri": "https://localhost:8080/",
          "height": 297
        },
        "id": "Xjn-ayvJXfEp",
        "outputId": "bd7149ea-0145-492d-a0c7-f40813defd0c"
      },
      "execution_count": 54,
      "outputs": [
        {
          "output_type": "stream",
          "name": "stdout",
          "text": [
            "[INFO] Avaliando os dados de teste\n"
          ]
        },
        {
          "output_type": "error",
          "ename": "NameError",
          "evalue": "ignored",
          "traceback": [
            "\u001b[0;31m---------------------------------------------------------------------------\u001b[0m",
            "\u001b[0;31mNameError\u001b[0m                                 Traceback (most recent call last)",
            "\u001b[0;32m<ipython-input-54-faba77c7bfa0>\u001b[0m in \u001b[0;36m<cell line: 14>\u001b[0;34m()\u001b[0m\n\u001b[1;32m     12\u001b[0m \u001b[0mprint\u001b[0m\u001b[0;34m(\u001b[0m\u001b[0;34m\"[INFO] Avaliando os dados de teste\"\u001b[0m\u001b[0;34m)\u001b[0m\u001b[0;34m\u001b[0m\u001b[0;34m\u001b[0m\u001b[0m\n\u001b[1;32m     13\u001b[0m \u001b[0;34m\u001b[0m\u001b[0m\n\u001b[0;32m---> 14\u001b[0;31m \u001b[0mresults\u001b[0m \u001b[0;34m=\u001b[0m \u001b[0mmodel\u001b[0m\u001b[0;34m.\u001b[0m\u001b[0mevaluate\u001b[0m\u001b[0;34m(\u001b[0m\u001b[0mx\u001b[0m\u001b[0;34m=\u001b[0m\u001b[0mx_test\u001b[0m\u001b[0;34m,\u001b[0m \u001b[0my\u001b[0m\u001b[0;34m=\u001b[0m\u001b[0my_test\u001b[0m\u001b[0;34m,\u001b[0m \u001b[0mbatch_size\u001b[0m\u001b[0;34m=\u001b[0m\u001b[0mbatch_size\u001b[0m\u001b[0;34m,\u001b[0m \u001b[0mverbose\u001b[0m\u001b[0;34m=\u001b[0m\u001b[0;36m1\u001b[0m\u001b[0;34m)\u001b[0m\u001b[0;34m\u001b[0m\u001b[0;34m\u001b[0m\u001b[0m\n\u001b[0m\u001b[1;32m     15\u001b[0m \u001b[0mprint\u001b[0m\u001b[0;34m(\u001b[0m\u001b[0;34m'Perda de teste, Acurácia de teste: '\u001b[0m\u001b[0;34m,\u001b[0m \u001b[0;34m[\u001b[0m\u001b[0mround\u001b[0m\u001b[0;34m(\u001b[0m\u001b[0mr\u001b[0m\u001b[0;34m,\u001b[0m \u001b[0;36m4\u001b[0m\u001b[0;34m)\u001b[0m \u001b[0;32mfor\u001b[0m \u001b[0mr\u001b[0m \u001b[0;32min\u001b[0m \u001b[0mresults\u001b[0m\u001b[0;34m]\u001b[0m\u001b[0;34m)\u001b[0m\u001b[0;34m\u001b[0m\u001b[0;34m\u001b[0m\u001b[0m\n\u001b[1;32m     16\u001b[0m \u001b[0;34m\u001b[0m\u001b[0m\n",
            "\u001b[0;31mNameError\u001b[0m: name 'x_test' is not defined"
          ]
        }
      ]
    },
    {
      "cell_type": "code",
      "source": [
        "import numpy as np\n",
        "\n",
        "# Suponha que você tenha x_test e y_test carregados de fontes separadas\n",
        "\n",
        "# x_test e y_test devem ter o mesmo número de amostras\n",
        "assert len(x_test) == len(y_test)\n",
        "\n",
        "# Unificar x_test e y_test em um único conjunto de dados de teste\n",
        "combined_test_data = np.column_stack((x_test, y_test))\n",
        "\n",
        "# Agora, combined_test_data contém tanto as features (x_test) quanto os rótulos (y_test)\n",
        "\n",
        "# Se você quiser separar x_test e y_test novamente, você pode fazer o seguinte:\n",
        "x_test = combined_test_data[:, :-1]  # Obtém todas as colunas, exceto a última\n",
        "y_test = combined_test_data[:, -1]    # Obtém a última coluna (rótulos)\n"
      ],
      "metadata": {
        "colab": {
          "base_uri": "https://localhost:8080/",
          "height": 245
        },
        "id": "AivZ29BjYcds",
        "outputId": "80b4c02d-fe40-4aef-fb1a-70054f136218"
      },
      "execution_count": 55,
      "outputs": [
        {
          "output_type": "error",
          "ename": "NameError",
          "evalue": "ignored",
          "traceback": [
            "\u001b[0;31m---------------------------------------------------------------------------\u001b[0m",
            "\u001b[0;31mNameError\u001b[0m                                 Traceback (most recent call last)",
            "\u001b[0;32m<ipython-input-55-69bed9e8f827>\u001b[0m in \u001b[0;36m<cell line: 6>\u001b[0;34m()\u001b[0m\n\u001b[1;32m      4\u001b[0m \u001b[0;34m\u001b[0m\u001b[0m\n\u001b[1;32m      5\u001b[0m \u001b[0;31m# x_test e y_test devem ter o mesmo número de amostras\u001b[0m\u001b[0;34m\u001b[0m\u001b[0;34m\u001b[0m\u001b[0m\n\u001b[0;32m----> 6\u001b[0;31m \u001b[0;32massert\u001b[0m \u001b[0mlen\u001b[0m\u001b[0;34m(\u001b[0m\u001b[0mx_test\u001b[0m\u001b[0;34m)\u001b[0m \u001b[0;34m==\u001b[0m \u001b[0mlen\u001b[0m\u001b[0;34m(\u001b[0m\u001b[0my_test\u001b[0m\u001b[0;34m)\u001b[0m\u001b[0;34m\u001b[0m\u001b[0;34m\u001b[0m\u001b[0m\n\u001b[0m\u001b[1;32m      7\u001b[0m \u001b[0;34m\u001b[0m\u001b[0m\n\u001b[1;32m      8\u001b[0m \u001b[0;31m# Unificar x_test e y_test em um único conjunto de dados de teste\u001b[0m\u001b[0;34m\u001b[0m\u001b[0;34m\u001b[0m\u001b[0m\n",
            "\u001b[0;31mNameError\u001b[0m: name 'x_test' is not defined"
          ]
        }
      ]
    },
    {
      "cell_type": "code",
      "source": [],
      "metadata": {
        "id": "ZhXNZvzTYdnx"
      },
      "execution_count": null,
      "outputs": []
    },
    {
      "cell_type": "code",
      "source": [
        "# Plot Testing confusion matrix\n",
        "cmat = confusion_matrix(np.asarray(y_test), y_pred, normalize='true')\n",
        "\n",
        "disp = ConfusionMatrixDisplay(confusion_matrix=cmat, display_labels=class_names)\n",
        "disp.plot(cmap='Blues', xticks_rotation='vertical', values_format='.2f')\n",
        "plt.show()"
      ],
      "metadata": {
        "colab": {
          "base_uri": "https://localhost:8080/",
          "height": 262
        },
        "id": "iQbN9q-jXts7",
        "outputId": "4ea2658e-392e-4fdc-983a-c02132fad83d"
      },
      "execution_count": 52,
      "outputs": [
        {
          "output_type": "error",
          "ename": "NameError",
          "evalue": "ignored",
          "traceback": [
            "\u001b[0;31m---------------------------------------------------------------------------\u001b[0m",
            "\u001b[0;31mNameError\u001b[0m                                 Traceback (most recent call last)",
            "\u001b[0;32m<ipython-input-52-fa9b705c7e16>\u001b[0m in \u001b[0;36m<cell line: 2>\u001b[0;34m()\u001b[0m\n\u001b[1;32m      1\u001b[0m \u001b[0;31m# Plot Testing confusion matrix\u001b[0m\u001b[0;34m\u001b[0m\u001b[0;34m\u001b[0m\u001b[0m\n\u001b[0;32m----> 2\u001b[0;31m \u001b[0mcmat\u001b[0m \u001b[0;34m=\u001b[0m \u001b[0mconfusion_matrix\u001b[0m\u001b[0;34m(\u001b[0m\u001b[0mnp\u001b[0m\u001b[0;34m.\u001b[0m\u001b[0masarray\u001b[0m\u001b[0;34m(\u001b[0m\u001b[0my_test\u001b[0m\u001b[0;34m)\u001b[0m\u001b[0;34m,\u001b[0m \u001b[0my_pred\u001b[0m\u001b[0;34m,\u001b[0m \u001b[0mnormalize\u001b[0m\u001b[0;34m=\u001b[0m\u001b[0;34m'true'\u001b[0m\u001b[0;34m)\u001b[0m\u001b[0;34m\u001b[0m\u001b[0;34m\u001b[0m\u001b[0m\n\u001b[0m\u001b[1;32m      3\u001b[0m \u001b[0;34m\u001b[0m\u001b[0m\n\u001b[1;32m      4\u001b[0m \u001b[0mdisp\u001b[0m \u001b[0;34m=\u001b[0m \u001b[0mConfusionMatrixDisplay\u001b[0m\u001b[0;34m(\u001b[0m\u001b[0mconfusion_matrix\u001b[0m\u001b[0;34m=\u001b[0m\u001b[0mcmat\u001b[0m\u001b[0;34m,\u001b[0m \u001b[0mdisplay_labels\u001b[0m\u001b[0;34m=\u001b[0m\u001b[0mclass_names\u001b[0m\u001b[0;34m)\u001b[0m\u001b[0;34m\u001b[0m\u001b[0;34m\u001b[0m\u001b[0m\n\u001b[1;32m      5\u001b[0m \u001b[0mdisp\u001b[0m\u001b[0;34m.\u001b[0m\u001b[0mplot\u001b[0m\u001b[0;34m(\u001b[0m\u001b[0mcmap\u001b[0m\u001b[0;34m=\u001b[0m\u001b[0;34m'Blues'\u001b[0m\u001b[0;34m,\u001b[0m \u001b[0mxticks_rotation\u001b[0m\u001b[0;34m=\u001b[0m\u001b[0;34m'vertical'\u001b[0m\u001b[0;34m,\u001b[0m \u001b[0mvalues_format\u001b[0m\u001b[0;34m=\u001b[0m\u001b[0;34m'.2f'\u001b[0m\u001b[0;34m)\u001b[0m\u001b[0;34m\u001b[0m\u001b[0;34m\u001b[0m\u001b[0m\n",
            "\u001b[0;31mNameError\u001b[0m: name 'y_test' is not defined"
          ]
        }
      ]
    }
  ],
  "metadata": {
    "colab": {
      "provenance": [],
      "authorship_tag": "ABX9TyPUqLxqi/S1OIENMgRTGZge",
      "include_colab_link": true
    },
    "kernelspec": {
      "display_name": "Python 3",
      "name": "python3"
    },
    "language_info": {
      "name": "python"
    }
  },
  "nbformat": 4,
  "nbformat_minor": 0
}