{
  "nbformat": 4,
  "nbformat_minor": 0,
  "metadata": {
    "colab": {
      "provenance": [],
      "authorship_tag": "ABX9TyNWNlE9xyfTU8ccdwuJFQNE",
      "include_colab_link": true
    },
    "kernelspec": {
      "name": "python3",
      "display_name": "Python 3"
    },
    "language_info": {
      "name": "python"
    }
  },
  "cells": [
    {
      "cell_type": "markdown",
      "metadata": {
        "id": "view-in-github",
        "colab_type": "text"
      },
      "source": [
        "<a href=\"https://colab.research.google.com/github/pscabral/IFMA_Softex/blob/main/EfficientNetB3_v1.ipynb\" target=\"_parent\"><img src=\"https://colab.research.google.com/assets/colab-badge.svg\" alt=\"Open In Colab\"/></a>"
      ]
    },
    {
      "cell_type": "code",
      "execution_count": 2,
      "metadata": {
        "colab": {
          "base_uri": "https://localhost:8080/"
        },
        "id": "9mAtcHPZGuhW",
        "outputId": "5e2760c4-60dd-4f0c-a1a4-3d648675d93d"
      },
      "outputs": [
        {
          "output_type": "stream",
          "name": "stdout",
          "text": [
            "Cloning into 'Fruit-Images-Dataset'...\n",
            "remote: Enumerating objects: 385858, done.\u001b[K\n",
            "remote: Counting objects: 100% (8693/8693), done.\u001b[K\n",
            "remote: Compressing objects: 100% (8659/8659), done.\u001b[K\n",
            "remote: Total 385858 (delta 37), reused 8688 (delta 34), pack-reused 377165\u001b[K\n",
            "Receiving objects: 100% (385858/385858), 2.10 GiB | 22.98 MiB/s, done.\n",
            "Resolving deltas: 100% (1197/1197), done.\n",
            "Updating files: 100% (90503/90503), done.\n"
          ]
        }
      ],
      "source": [
        "# Clonar o repositório \"Fruit-Images-Dataset\" do GitHub\n",
        "!git clone https://github.com/Horea94/Fruit-Images-Dataset"
      ]
    },
    {
      "cell_type": "code",
      "source": [
        "import os\n",
        "\n",
        "# Diretório raiz\n",
        "root_directory = '/content/Fruit-Images-Dataset/Validation'\n",
        "\n",
        "# Lista de subpastas\n",
        "subfolders = [\n",
        "    'apple_6',\n",
        "    'apple_braeburn_1',\n",
        "    'apple_crimson_snow_1',\n",
        "    'apple_golden_1',\n",
        "    'apple_golden_2',\n",
        "    'apple_golden_3',\n",
        "    'apple_granny_smith_1',\n",
        "    'apple_hit_1',\n",
        "    'apple_pink_lady_1',\n",
        "    'apple_red_1',\n",
        "    'apple_red_2',\n",
        "    'apple_red_3',\n",
        "    'apple_red_delicious_1',\n",
        "    'apple_red_yellow_1',\n",
        "    'apple_rotten_1',\n",
        "    'cabbage_white_1',\n",
        "    'carrot_1',\n",
        "    'cucumber_1',\n",
        "    'cucumber_3',\n",
        "    'eggplant_violet_1',\n",
        "    'pear_1',\n",
        "    'pear_3',\n",
        "    'zucchini_1',\n",
        "    'zucchini_dark_1'\n",
        "]\n",
        "\n",
        "# Crie a estrutura de pastas\n",
        "for folder in subfolders:\n",
        "    folder_path = os.path.join(root_directory, folder)\n",
        "    os.makedirs(folder_path, exist_ok=True)"
      ],
      "metadata": {
        "id": "IKSan_RDG1g0"
      },
      "execution_count": 3,
      "outputs": []
    },
    {
      "cell_type": "code",
      "source": [
        "# Imports\n",
        "import numpy as np\n",
        "import tensorflow as tf\n",
        "import matplotlib.pyplot as plt\n",
        "from pathlib import Path\n",
        "\n",
        "# ML Imports\n",
        "import sklearn\n",
        "from sklearn.preprocessing import LabelEncoder\n",
        "from sklearn.model_selection import train_test_split\n",
        "from tensorflow.keras.layers.experimental.preprocessing import RandomFlip\n",
        "from tensorflow.keras.layers.experimental.preprocessing import RandomRotation\n",
        "from tensorflow.keras.layers.experimental.preprocessing import RandomZoom\n",
        "from tensorflow.keras.applications import EfficientNetB3\n",
        "from tensorflow.keras.optimizers import Adam\n",
        "from tensorflow.keras.metrics import Precision\n",
        "from tensorflow.keras.metrics import Recall"
      ],
      "metadata": {
        "id": "ang4JKejI10e"
      },
      "execution_count": 3,
      "outputs": []
    },
    {
      "cell_type": "code",
      "source": [
        "# Definindo uma semente para o TensorFlow a fim de manter os resultados consistentes\n",
        "tf.random.set_seed(4)"
      ],
      "metadata": {
        "id": "lLwX7IApI8mm"
      },
      "execution_count": 4,
      "outputs": []
    },
    {
      "cell_type": "code",
      "source": [
        "# Caminho para os dados de treinamento\n",
        "train_data = Path(r'/content/Fruit-Images-Dataset/Training')\n",
        "# Caminho para os dados de teste\n",
        "train_data = Path(r'/content/Fruit-Images-Dataset/Test')\n",
        "# Caminho para os dados de validação\n",
        "train_data = Path(r'/content/Fruit-Images-Dataset/Validation')"
      ],
      "metadata": {
        "id": "tzIzjk0GJJam"
      },
      "execution_count": 5,
      "outputs": []
    },
    {
      "cell_type": "code",
      "source": [
        "import os\n",
        "from pathlib import Path\n",
        "\n",
        "# Caminho para o diretório de dados de treinamento\n",
        "train_data = Path('/content/Fruit-Images-Dataset/Training')\n",
        "\n",
        "# Lista de caminhos de arquivo de imagem de treinamento, convertidos em strings\n",
        "training_images = [str(image) for image in train_data.glob('*/*')]\n",
        "\n",
        "# Extrair apenas os nomes dos arquivos de imagem\n",
        "image_names = [os.path.basename(image) for image in training_images]\n",
        "\n",
        "# Exibir os primeiros nomes de imagem\n",
        "print(image_names[925:936])\n",
        "\n",
        "# Obter o número total de imagens\n",
        "total_images = len(image_names)\n",
        "print(total_images)\n"
      ],
      "metadata": {
        "colab": {
          "base_uri": "https://localhost:8080/"
        },
        "id": "kTBObSaoRn1i",
        "outputId": "50e91c27-ee96-4fae-ec7d-da2808e42432"
      },
      "execution_count": 6,
      "outputs": [
        {
          "output_type": "stream",
          "name": "stdout",
          "text": [
            "['277_100.jpg', '267_100.jpg', '209_100.jpg', '263_100.jpg', '142_100.jpg', '174_100.jpg', 'r_255_100.jpg', 'r_263_100.jpg', 'r_305_100.jpg', '24_100.jpg', '318_100.jpg']\n",
            "67692\n"
          ]
        }
      ]
    },
    {
      "cell_type": "code",
      "source": [
        "# Lista de caminhos para imagens de treinamento - Obtém todos os arquivos nos subdiretórios de train_data\n",
        "training_images = list(train_data.glob('*/*'))"
      ],
      "metadata": {
        "id": "oHBs7j4lVU6u"
      },
      "execution_count": 7,
      "outputs": []
    },
    {
      "cell_type": "code",
      "source": [
        "# Seleciona um intervalo de imagens de treinamento, do índice 925 ao 935 (incluindo o índice 925 e excluindo o índice 936).\n",
        "training_images[925:936]"
      ],
      "metadata": {
        "colab": {
          "base_uri": "https://localhost:8080/"
        },
        "id": "tM70_PdsVXcq",
        "outputId": "a514c45a-2635-465c-c1af-677e96310569"
      },
      "execution_count": 9,
      "outputs": [
        {
          "output_type": "execute_result",
          "data": {
            "text/plain": [
              "[PosixPath('/content/Fruit-Images-Dataset/Training/Clementine/277_100.jpg'),\n",
              " PosixPath('/content/Fruit-Images-Dataset/Training/Clementine/267_100.jpg'),\n",
              " PosixPath('/content/Fruit-Images-Dataset/Training/Clementine/209_100.jpg'),\n",
              " PosixPath('/content/Fruit-Images-Dataset/Training/Clementine/263_100.jpg'),\n",
              " PosixPath('/content/Fruit-Images-Dataset/Training/Clementine/142_100.jpg'),\n",
              " PosixPath('/content/Fruit-Images-Dataset/Training/Clementine/174_100.jpg'),\n",
              " PosixPath('/content/Fruit-Images-Dataset/Training/Clementine/r_255_100.jpg'),\n",
              " PosixPath('/content/Fruit-Images-Dataset/Training/Clementine/r_263_100.jpg'),\n",
              " PosixPath('/content/Fruit-Images-Dataset/Training/Clementine/r_305_100.jpg'),\n",
              " PosixPath('/content/Fruit-Images-Dataset/Training/Clementine/24_100.jpg'),\n",
              " PosixPath('/content/Fruit-Images-Dataset/Training/Clementine/318_100.jpg')]"
            ]
          },
          "metadata": {},
          "execution_count": 9
        }
      ]
    },
    {
      "cell_type": "code",
      "source": [
        "# Converte a lista de caminhos para imagens de treinamento em uma lista de strings\n",
        "training_images = list(map(lambda x: str(x), training_images))"
      ],
      "metadata": {
        "id": "kJznmHebVkB0"
      },
      "execution_count": 10,
      "outputs": []
    },
    {
      "cell_type": "code",
      "source": [
        "# Seleciona um intervalo de imagens de treinamento, do índice 925 ao 935 (incluindo o índice 925 e excluindo o índice 936).\n",
        "training_images[925:936]"
      ],
      "metadata": {
        "colab": {
          "base_uri": "https://localhost:8080/"
        },
        "id": "4GXRA6-eVlXD",
        "outputId": "a5a12694-0fec-4942-d751-fc5b85621df4"
      },
      "execution_count": 11,
      "outputs": [
        {
          "output_type": "execute_result",
          "data": {
            "text/plain": [
              "['/content/Fruit-Images-Dataset/Training/Clementine/277_100.jpg',\n",
              " '/content/Fruit-Images-Dataset/Training/Clementine/267_100.jpg',\n",
              " '/content/Fruit-Images-Dataset/Training/Clementine/209_100.jpg',\n",
              " '/content/Fruit-Images-Dataset/Training/Clementine/263_100.jpg',\n",
              " '/content/Fruit-Images-Dataset/Training/Clementine/142_100.jpg',\n",
              " '/content/Fruit-Images-Dataset/Training/Clementine/174_100.jpg',\n",
              " '/content/Fruit-Images-Dataset/Training/Clementine/r_255_100.jpg',\n",
              " '/content/Fruit-Images-Dataset/Training/Clementine/r_263_100.jpg',\n",
              " '/content/Fruit-Images-Dataset/Training/Clementine/r_305_100.jpg',\n",
              " '/content/Fruit-Images-Dataset/Training/Clementine/24_100.jpg',\n",
              " '/content/Fruit-Images-Dataset/Training/Clementine/318_100.jpg']"
            ]
          },
          "metadata": {},
          "execution_count": 11
        }
      ]
    },
    {
      "cell_type": "code",
      "source": [
        "# Obtém o comprimento (número de elementos) da lista de caminhos para imagens de treinamento\n",
        "len(training_images)"
      ],
      "metadata": {
        "colab": {
          "base_uri": "https://localhost:8080/"
        },
        "id": "fBYc5jcyVq6U",
        "outputId": "12fcbb29-9283-43e5-b642-7acc5d8e5358"
      },
      "execution_count": 12,
      "outputs": [
        {
          "output_type": "execute_result",
          "data": {
            "text/plain": [
              "67692"
            ]
          },
          "metadata": {},
          "execution_count": 12
        }
      ]
    },
    {
      "cell_type": "code",
      "source": [
        "# Função para extrair o rótulo de um caminho de imagem\n",
        "def labelExtraction(image_path):\n",
        "    # Divida o caminho com base na barra '/'\n",
        "    path_parts = image_path.split(\"/\")\n",
        "    # O rótulo estará na penúltima parte (índice -2)\n",
        "    return path_parts[-2]\n",
        "\n",
        "# Aplica a função labelExtraction a cada caminho de imagem na lista training_images\n",
        "train_images_label = list(map(lambda x: labelExtraction(x), training_images))\n",
        "# Seleciona um intervalo de rótulos de imagens de treinamento (índice 925 ao 935)\n",
        "train_images_label[925:936]"
      ],
      "metadata": {
        "colab": {
          "base_uri": "https://localhost:8080/"
        },
        "id": "akSr5bipYSm_",
        "outputId": "bed49435-1e82-465f-e094-73f4edae7761"
      },
      "execution_count": 13,
      "outputs": [
        {
          "output_type": "execute_result",
          "data": {
            "text/plain": [
              "['Clementine',\n",
              " 'Clementine',\n",
              " 'Clementine',\n",
              " 'Clementine',\n",
              " 'Clementine',\n",
              " 'Clementine',\n",
              " 'Clementine',\n",
              " 'Clementine',\n",
              " 'Clementine',\n",
              " 'Clementine',\n",
              " 'Clementine']"
            ]
          },
          "metadata": {},
          "execution_count": 13
        }
      ]
    },
    {
      "cell_type": "code",
      "source": [
        "# Inicializa um objeto LabelEncoder para codificar rótulos categóricos em valores numéricos\n",
        "encoder = LabelEncoder()"
      ],
      "metadata": {
        "id": "SZkVwSAlYrXq"
      },
      "execution_count": 14,
      "outputs": []
    },
    {
      "cell_type": "code",
      "source": [
        "# Aplica o codificador LabelEncoder para transformar os rótulos de treinamento em valores numéricos\n",
        "train_images_label = encoder.fit_transform(train_images_label)"
      ],
      "metadata": {
        "id": "1tBtnltnYuaC"
      },
      "execution_count": 15,
      "outputs": []
    },
    {
      "cell_type": "code",
      "source": [
        "# Seleciona um intervalo de rótulos de imagens de treinamento após a codificação\n",
        "train_images_label[925:936]"
      ],
      "metadata": {
        "colab": {
          "base_uri": "https://localhost:8080/"
        },
        "id": "3UT-U9N-Yvp4",
        "outputId": "c786c2af-97c0-4824-db29-59ad65a85a77"
      },
      "execution_count": 16,
      "outputs": [
        {
          "output_type": "execute_result",
          "data": {
            "text/plain": [
              "array([33, 33, 33, 33, 33, 33, 33, 33, 33, 33, 33])"
            ]
          },
          "metadata": {},
          "execution_count": 16
        }
      ]
    },
    {
      "cell_type": "code",
      "source": [
        "# A linha abaixo converte os rótulos das imagens de treinamento em formato one-hot encoding.\n",
        "# Isso é útil em problemas de classificação, onde você tem várias classes e deseja representar\n",
        "# cada classe como um vetor binário onde apenas um dos elementos é 1 e os outros são 0.\n",
        "train_images_label = tf.keras.utils.to_categorical(train_images_label)"
      ],
      "metadata": {
        "id": "fnCnsPetZH-r"
      },
      "execution_count": 17,
      "outputs": []
    },
    {
      "cell_type": "code",
      "source": [
        "# A linha abaixo acessa uma fatia (slice) do array 'train_images_label', abrangendo os elementos do índice 925 ao 936.\n",
        "train_images_label[925:936]"
      ],
      "metadata": {
        "colab": {
          "base_uri": "https://localhost:8080/"
        },
        "id": "4T9K6mfBZLYt",
        "outputId": "0f602080-9c47-4c9b-bda4-48569aacd3e5"
      },
      "execution_count": 18,
      "outputs": [
        {
          "output_type": "execute_result",
          "data": {
            "text/plain": [
              "array([[0., 0., 0., ..., 0., 0., 0.],\n",
              "       [0., 0., 0., ..., 0., 0., 0.],\n",
              "       [0., 0., 0., ..., 0., 0., 0.],\n",
              "       ...,\n",
              "       [0., 0., 0., ..., 0., 0., 0.],\n",
              "       [0., 0., 0., ..., 0., 0., 0.],\n",
              "       [0., 0., 0., ..., 0., 0., 0.]], dtype=float32)"
            ]
          },
          "metadata": {},
          "execution_count": 18
        }
      ]
    },
    {
      "cell_type": "code",
      "source": [
        "# Divisão entre dados de treinamento e dados de validação\n",
        "# A linha abaixo utiliza a função 'train_test_split' para dividir os conjuntos de dados 'training_images'\n",
        "# e 'train_images_label' em conjuntos de treinamento ('X_train' e 'y_train') e conjuntos de validação ('X_valid' e 'y_valid').\n",
        "X_train, X_valid, y_train, y_valid = train_test_split(training_images, train_images_label)"
      ],
      "metadata": {
        "id": "4PNtLbPRZRD8"
      },
      "execution_count": 19,
      "outputs": []
    },
    {
      "cell_type": "code",
      "source": [
        "# A linha abaixo acessa uma fatia (slice) do conjunto de dados de treinamento 'X_train',\n",
        "# abrangendo os elementos do índice 18 ao 22.\n",
        "X_train[18:23]"
      ],
      "metadata": {
        "colab": {
          "base_uri": "https://localhost:8080/"
        },
        "id": "SumkrjcfZXU4",
        "outputId": "3b6a4ae6-a507-43e2-f830-b18495bfe134"
      },
      "execution_count": 20,
      "outputs": [
        {
          "output_type": "execute_result",
          "data": {
            "text/plain": [
              "['/content/Fruit-Images-Dataset/Training/Kiwi/r_317_100.jpg',\n",
              " '/content/Fruit-Images-Dataset/Training/Avocado/27_100.jpg',\n",
              " '/content/Fruit-Images-Dataset/Training/Tangelo/139_100.jpg',\n",
              " '/content/Fruit-Images-Dataset/Training/Pepper Green/r_161_100.jpg',\n",
              " '/content/Fruit-Images-Dataset/Training/Clementine/27_100.jpg']"
            ]
          },
          "metadata": {},
          "execution_count": 20
        }
      ]
    },
    {
      "cell_type": "code",
      "source": [
        "# A linha abaixo acessa uma fatia (slice) do conjunto de rótulos de treinamento 'y_train',\n",
        "# abrangendo os elementos do índice 15 ao 17.\n",
        "y_train[15:18]"
      ],
      "metadata": {
        "colab": {
          "base_uri": "https://localhost:8080/"
        },
        "id": "C5eIvUXKZd8o",
        "outputId": "d5f11085-76ee-4eaf-b82c-b22830f10012"
      },
      "execution_count": 21,
      "outputs": [
        {
          "output_type": "execute_result",
          "data": {
            "text/plain": [
              "array([[0., 0., 0., 0., 0., 0., 0., 0., 0., 0., 0., 0., 0., 0., 0., 0.,\n",
              "        0., 0., 0., 0., 0., 0., 0., 0., 0., 0., 0., 0., 0., 0., 0., 0.,\n",
              "        0., 0., 0., 0., 0., 0., 0., 0., 0., 0., 0., 0., 0., 0., 0., 0.,\n",
              "        0., 0., 0., 0., 0., 0., 0., 0., 0., 0., 0., 0., 0., 0., 0., 0.,\n",
              "        0., 0., 0., 0., 0., 0., 0., 0., 0., 0., 0., 0., 0., 0., 0., 0.,\n",
              "        0., 0., 0., 0., 0., 0., 0., 0., 0., 0., 0., 0., 0., 0., 0., 0.,\n",
              "        0., 0., 0., 0., 0., 0., 0., 0., 0., 0., 0., 0., 0., 0., 0., 0.,\n",
              "        0., 0., 0., 0., 0., 0., 0., 1., 0., 0., 0., 0., 0., 0., 0., 0.,\n",
              "        0., 0., 0.],\n",
              "       [0., 0., 0., 0., 0., 0., 1., 0., 0., 0., 0., 0., 0., 0., 0., 0.,\n",
              "        0., 0., 0., 0., 0., 0., 0., 0., 0., 0., 0., 0., 0., 0., 0., 0.,\n",
              "        0., 0., 0., 0., 0., 0., 0., 0., 0., 0., 0., 0., 0., 0., 0., 0.,\n",
              "        0., 0., 0., 0., 0., 0., 0., 0., 0., 0., 0., 0., 0., 0., 0., 0.,\n",
              "        0., 0., 0., 0., 0., 0., 0., 0., 0., 0., 0., 0., 0., 0., 0., 0.,\n",
              "        0., 0., 0., 0., 0., 0., 0., 0., 0., 0., 0., 0., 0., 0., 0., 0.,\n",
              "        0., 0., 0., 0., 0., 0., 0., 0., 0., 0., 0., 0., 0., 0., 0., 0.,\n",
              "        0., 0., 0., 0., 0., 0., 0., 0., 0., 0., 0., 0., 0., 0., 0., 0.,\n",
              "        0., 0., 0.],\n",
              "       [0., 0., 0., 0., 0., 0., 0., 0., 0., 0., 0., 0., 0., 0., 0., 0.,\n",
              "        0., 0., 0., 0., 0., 0., 0., 0., 0., 0., 0., 0., 0., 0., 0., 0.,\n",
              "        0., 0., 0., 0., 0., 0., 0., 0., 0., 0., 0., 0., 0., 0., 0., 0.,\n",
              "        0., 0., 0., 0., 0., 0., 0., 0., 0., 0., 0., 0., 0., 0., 0., 0.,\n",
              "        0., 0., 0., 0., 0., 0., 0., 0., 0., 0., 0., 0., 0., 0., 0., 0.,\n",
              "        0., 0., 0., 0., 0., 0., 0., 0., 0., 0., 0., 0., 0., 0., 0., 0.,\n",
              "        0., 0., 0., 0., 0., 0., 0., 0., 0., 0., 0., 0., 0., 0., 0., 0.,\n",
              "        0., 0., 0., 0., 0., 0., 0., 0., 0., 1., 0., 0., 0., 0., 0., 0.,\n",
              "        0., 0., 0.]], dtype=float32)"
            ]
          },
          "metadata": {},
          "execution_count": 21
        }
      ]
    },
    {
      "cell_type": "code",
      "source": [
        "import os\n",
        "import tensorflow as tf\n",
        "\n",
        "# Diretório raiz onde suas imagens estão localizadas\n",
        "diretorio_raiz = \"/content/Fruit-Images-Dataset/Training\"\n",
        "\n",
        "# Tamanho desejado para as imagens redimensionadas\n",
        "img_size = 224\n",
        "\n",
        "# Crie um modelo de redimensionamento\n",
        "resize = tf.keras.Sequential([tf.keras.layers.experimental.preprocessing.Resizing(img_size, img_size)])\n",
        "\n",
        "# Percorra todas as pastas e subpastas\n",
        "for raiz, diretorios, arquivos in os.walk(diretorio_raiz):\n",
        "    for arquivo in arquivos:\n",
        "        # Verifique se o arquivo é uma imagem (você pode adicionar mais extensões, se necessário)\n",
        "        if arquivo.endswith(\".jpg\") or arquivo.endswith(\".png\"):\n",
        "            imagem_path = os.path.join(raiz, arquivo)\n",
        "            # Carregue a imagem\n",
        "            imagem = tf.keras.preprocessing.image.load_img(imagem_path)\n",
        "            # Redimensione a imagem\n",
        "            imagem_redimensionada = resize(imagem)\n",
        "            # Salve a imagem redimensionada de volta no mesmo local\n",
        "            tf.keras.preprocessing.image.save_img(imagem_path, imagem_redimensionada)\n",
        "\n",
        "print(\"Todas as imagens foram redimensionadas com sucesso.\")"
      ],
      "metadata": {
        "colab": {
          "base_uri": "https://localhost:8080/"
        },
        "id": "W8oRofawbGA_",
        "outputId": "643e4c5c-ac10-49dd-e65a-21d0f1f6bc15"
      },
      "execution_count": 22,
      "outputs": [
        {
          "output_type": "stream",
          "name": "stdout",
          "text": [
            "Todas as imagens foram redimensionadas com sucesso.\n"
          ]
        }
      ]
    },
    {
      "cell_type": "code",
      "source": [
        "# Criação de um objeto para aumentar o conjunto de dados (data augmentation)\n",
        "data_augmentation = tf.keras.Sequential([\n",
        "    RandomFlip(\"horizontal\"),             # Realiza um espelhamento horizontal aleatório das imagens.\n",
        "    RandomRotation(0.2),                  # Aplica uma rotação aleatória de até 0.2 radianos nas imagens.\n",
        "    RandomZoom(height_factor=(-0.3, -0.2)) # Aplica um zoom aleatório nas imagens, variando a altura dentro do intervalo (-0.3, -0.2).\n",
        "])"
      ],
      "metadata": {
        "id": "RrQBegp7b6V1"
      },
      "execution_count": 23,
      "outputs": []
    },
    {
      "cell_type": "code",
      "source": [
        "# Hiperparâmetros\n",
        "batch_size = 32  # Tamanho do lote (batch) utilizado durante o treinamento.\n",
        "autotune = tf.data.experimental.AUTOTUNE  # Valor especial que permite ao TensorFlow otimizar o desempenho de operações de entrada de dados automaticamente."
      ],
      "metadata": {
        "id": "f16W_vh3b9V2"
      },
      "execution_count": 24,
      "outputs": []
    },
    {
      "cell_type": "code",
      "source": [
        "# Carregar e Transformar Imagens\n",
        "def loadTransform(image, label):\n",
        "    image = tf.io.read_file(image)      # Lê o arquivo de imagem.\n",
        "    image = tf.io.decode_jpeg(image, channels=3)  # Decodifica o arquivo de imagem no formato JPEG com 3 canais de cores.\n",
        "    return image, label"
      ],
      "metadata": {
        "id": "JpJAmXpXcDc-"
      },
      "execution_count": 26,
      "outputs": []
    },
    {
      "cell_type": "code",
      "source": [
        "# Preparar o conjunto de dados no formato TensorFlow\n",
        "def prepareDataset(path, labels, train=True):\n",
        "\n",
        "    # Preparar os dados\n",
        "    image_paths = tf.convert_to_tensor(path)  # Converter os caminhos das imagens em um tensor TensorFlow.\n",
        "    labels = tf.convert_to_tensor(labels)     # Converter os rótulos em um tensor TensorFlow.\n",
        "\n",
        "    image_dataset = tf.data.Dataset.from_tensor_slices(image_paths)  # Criar um conjunto de dados a partir dos caminhos das imagens.\n",
        "    label_dataset = tf.data.Dataset.from_tensor_slices(labels)       # Criar um conjunto de dados a partir dos rótulos.\n",
        "\n",
        "    dataset = tf.data.Dataset.zip((image_dataset, label_dataset))  # Combina os conjuntos de dados de imagens e rótulos.\n",
        "    dataset = dataset.map(lambda image, label: loadTransform(image, label))  # Aplicar a função 'loadTransform' para carregar e transformar as imagens.\n",
        "    dataset = dataset.map(lambda image, label: (resize(image), label), num_parallel_calls=autotune)  # Redimensionar as imagens.\n",
        "\n",
        "    dataset = dataset.shuffle(1000)  # Embaralhar o conjunto de dados.\n",
        "    dataset = dataset.batch(batch_size)  # Agrupar as imagens em lotes.\n",
        "\n",
        "    # Se train == True, aplicar o aumento de dados nas imagens\n",
        "    if train:\n",
        "        dataset = dataset.map(lambda image, label: (data_augmentation(image), label), num_parallel_calls=autotune)\n",
        "\n",
        "    # Se train == False, repetir o conjunto de dados e retornar\n",
        "    dataset = dataset.repeat()\n",
        "\n",
        "    return dataset"
      ],
      "metadata": {
        "id": "nZgcr60AcIuj"
      },
      "execution_count": 28,
      "outputs": []
    },
    {
      "cell_type": "code",
      "source": [
        "# Conjunto de dados de treinamento\n",
        "train_dataset = prepareDataset(X_train, y_train)"
      ],
      "metadata": {
        "id": "Nsw6dtBlcRnj"
      },
      "execution_count": 29,
      "outputs": []
    },
    {
      "cell_type": "code",
      "source": [
        "# Formato\n",
        "image, label = next(iter(train_dataset))\n",
        "print(image.shape)  # Imprime o formato (shape) das imagens no conjunto de dados.\n",
        "print(label.shape)  # Imprime o formato (shape) dos rótulos no conjunto de dados."
      ],
      "metadata": {
        "colab": {
          "base_uri": "https://localhost:8080/"
        },
        "id": "ZG7XSv-_cVSI",
        "outputId": "d13fd5b6-e971-49e9-e46e-18ffad01db3a"
      },
      "execution_count": 30,
      "outputs": [
        {
          "output_type": "stream",
          "name": "stdout",
          "text": [
            "(32, 224, 224, 3)\n",
            "(32, 131)\n"
          ]
        }
      ]
    },
    {
      "cell_type": "code",
      "source": [
        "# Visualização de uma imagem e seu rótulo\n",
        "print(encoder.inverse_transform(np.argmax(label, axis=1))[0])\n",
        "plt.imshow((image[0].numpy() / 255).reshape(224, 224, 3))"
      ],
      "metadata": {
        "colab": {
          "base_uri": "https://localhost:8080/",
          "height": 469
        },
        "id": "Nj8EFjaicczw",
        "outputId": "33da6fb5-77a4-4f93-8ecf-2a2f96fa86e4"
      },
      "execution_count": 31,
      "outputs": [
        {
          "output_type": "stream",
          "name": "stdout",
          "text": [
            "Cherry Wax Red\n"
          ]
        },
        {
          "output_type": "execute_result",
          "data": {
            "text/plain": [
              "<matplotlib.image.AxesImage at 0x7b8378693d30>"
            ]
          },
          "metadata": {},
          "execution_count": 31
        },
        {
          "output_type": "display_data",
          "data": {
            "text/plain": [
              "<Figure size 640x480 with 1 Axes>"
            ],
            "image/png": "[encoded data removed]"
          },
          "metadata": {}
        }
      ]
    },
    {
      "cell_type": "code",
      "source": [
        "# Cria o dataset de validação\n",
        "valid_dataset = prepareDataset(X_valid, y_valid, train = False)"
      ],
      "metadata": {
        "id": "yofEjhWWcuM8"
      },
      "execution_count": 32,
      "outputs": []
    },
    {
      "cell_type": "code",
      "source": [
        "# Formato\n",
        "image, label = next(iter(valid_dataset))\n",
        "print(image.shape)  # Imprime o formato (shape) das imagens no conjunto de dados de validação.\n",
        "print(label.shape)  # Imprime o formato (shape) dos rótulos no conjunto de dados de validação."
      ],
      "metadata": {
        "colab": {
          "base_uri": "https://localhost:8080/"
        },
        "id": "7wAXiBb0cxUV",
        "outputId": "287a1b94-95f4-4fc8-f745-938a4f660984"
      },
      "execution_count": 33,
      "outputs": [
        {
          "output_type": "stream",
          "name": "stdout",
          "text": [
            "(32, 224, 224, 3)\n",
            "(32, 131)\n"
          ]
        }
      ]
    },
    {
      "cell_type": "code",
      "source": [
        "# Visualizando uma imagem e seu rótulo\n",
        "print(encoder.inverse_transform(np.argmax(label, axis=1))[0])\n",
        "plt.imshow((image[0].numpy() / 255).reshape(224, 224, 3))"
      ],
      "metadata": {
        "id": "J0W214syczLu"
      },
      "execution_count": null,
      "outputs": []
    },
    {
      "cell_type": "code",
      "source": [
        "#Deep learning Model\n",
        "#https://www.kaggle.com/code/jonathansaccomano/fruits-image-classification/notebook"
      ],
      "metadata": {
        "id": "VA-S-nMSdYbi"
      },
      "execution_count": 93,
      "outputs": []
    },
    {
      "cell_type": "code",
      "source": [
        "# Utilizando o EfficientNetB3 para o modelo\n",
        "pre_model = EfficientNetB3(input_shape=(224, 224, 3), include_top=False)"
      ],
      "metadata": {
        "id": "HOnmrFK9KdMX"
      },
      "execution_count": null,
      "outputs": []
    },
    {
      "cell_type": "code",
      "source": [
        "# Adicionando algumas camadas ao pre_model\n",
        "model = tf.keras.Sequential([\n",
        "    pre_model,  # Utiliza o modelo base 'pre_model' (EfficientNetB3) como ponto de partida.\n",
        "    tf.keras.layers.GlobalAveragePooling2D(),  # Adiciona uma camada de pooling global.\n",
        "    tf.keras.layers.Dense(131, activation='softmax')  # Adiciona uma camada densa (fully connected) com 131 unidades e função de ativação softmax.\n",
        "])"
      ],
      "metadata": {
        "id": "22LZdPN9Kqgd"
      },
      "execution_count": 36,
      "outputs": []
    },
    {
      "cell_type": "code",
      "source": [
        "# Exibindo um resumo do modelo\n",
        "model.summary()"
      ],
      "metadata": {
        "colab": {
          "base_uri": "https://localhost:8080/"
        },
        "id": "xXORKMkmKzp4",
        "outputId": "f0025da9-558d-485c-b1af-c111b7ffa8b2"
      },
      "execution_count": 37,
      "outputs": [
        {
          "output_type": "stream",
          "name": "stdout",
          "text": [
            "Model: \"sequential_2\"\n",
            "_________________________________________________________________\n",
            " Layer (type)                Output Shape              Param #   \n",
            "=================================================================\n",
            " efficientnetb3 (Functional  (None, 7, 7, 1536)        10783535  \n",
            " )                                                               \n",
            "                                                                 \n",
            " global_average_pooling2d (  (None, 1536)              0         \n",
            " GlobalAveragePooling2D)                                         \n",
            "                                                                 \n",
            " dense (Dense)               (None, 131)               201347    \n",
            "                                                                 \n",
            "=================================================================\n",
            "Total params: 10984882 (41.90 MB)\n",
            "Trainable params: 10897579 (41.57 MB)\n",
            "Non-trainable params: 87303 (341.03 KB)\n",
            "_________________________________________________________________\n"
          ]
        }
      ]
    },
    {
      "cell_type": "code",
      "source": [
        "# Hiperparâmetros\n",
        "lr = 0.001  # Taxa de aprendizado (learning rate) definida como 0.001.\n",
        "beta1 = 0.9  # Valor do primeiro momento (beta1) utilizado em otimizadores como o Adam.\n",
        "beta2 = 0.999  # Valor do segundo momento (beta2) utilizado em otimizadores como o Adam.\n",
        "ep = 1e-07  # Epsilon (ep) é um valor pequeno adicionado ao denominador para evitar divisão por zero em otimizadores como o Adam."
      ],
      "metadata": {
        "id": "l2kSiYddK9yA"
      },
      "execution_count": 38,
      "outputs": []
    },
    {
      "cell_type": "code",
      "source": [
        "# Obter uma GPU para executar o treinamento\n",
        "device_name = tf.test.gpu_device_name()  # Verifica se há uma GPU disponível.\n",
        "if \"GPU\" not in device_name:  # Se não encontrar \"GPU\" no nome do dispositivo, significa que não há GPU disponível.\n",
        "    print(\"Dispositivo GPU não encontrado\")\n",
        "print('Encontrada GPU em: {}'.format(device_name))\n"
      ],
      "metadata": {
        "colab": {
          "base_uri": "https://localhost:8080/"
        },
        "id": "BpVyzn5ZLJLR",
        "outputId": "d4de02cd-c254-43b5-91be-df24081f7f2a"
      },
      "execution_count": 39,
      "outputs": [
        {
          "output_type": "stream",
          "name": "stdout",
          "text": [
            "Dispositivo GPU não encontrado\n",
            "Encontrada GPU em: \n"
          ]
        }
      ]
    },
    {
      "cell_type": "code",
      "source": [
        "# Compilação do Modelo\n",
        "model.compile(optimizer=Adam(learning_rate=lr,\n",
        "                            beta_1=beta1,\n",
        "                            beta_2=beta2,\n",
        "                            epsilon=ep),\n",
        "              loss='categorical_crossentropy',\n",
        "              metrics=['accuracy', Precision(name='precision'), Recall(name='recall')])"
      ],
      "metadata": {
        "id": "SttOa3zbLOwr"
      },
      "execution_count": 41,
      "outputs": []
    },
    {
      "cell_type": "code",
      "source": [
        "# Exibindo um resumo do modelo\n",
        "model.summary()"
      ],
      "metadata": {
        "colab": {
          "base_uri": "https://localhost:8080/"
        },
        "id": "-5ZRwsLgLpow",
        "outputId": "e23ef5f4-9a06-42c1-df08-46b83c461864"
      },
      "execution_count": 43,
      "outputs": [
        {
          "output_type": "stream",
          "name": "stdout",
          "text": [
            "Model: \"sequential_2\"\n",
            "_________________________________________________________________\n",
            " Layer (type)                Output Shape              Param #   \n",
            "=================================================================\n",
            " efficientnetb3 (Functional  (None, 7, 7, 1536)        10783535  \n",
            " )                                                               \n",
            "                                                                 \n",
            " global_average_pooling2d (  (None, 1536)              0         \n",
            " GlobalAveragePooling2D)                                         \n",
            "                                                                 \n",
            " dense (Dense)               (None, 131)               201347    \n",
            "                                                                 \n",
            "=================================================================\n",
            "Total params: 10984882 (41.90 MB)\n",
            "Trainable params: 10897579 (41.57 MB)\n",
            "Non-trainable params: 87303 (341.03 KB)\n",
            "_________________________________________________________________\n"
          ]
        }
      ]
    },
    {
      "cell_type": "code",
      "source": [
        "# Executando o modelo\n",
        "with tf.device('/device:GPU:0'):\n",
        "    history = model.fit(train_dataset,\n",
        "                        steps_per_epoch=len(X_train)//batch_size,\n",
        "                        epochs=1,\n",
        "                        validation_data=valid_dataset,\n",
        "                        validation_steps=len(y_train)//batch_size)\n"
      ],
      "metadata": {
        "id": "a6EAgVjyLxVo"
      },
      "execution_count": null,
      "outputs": []
    }
  ]
}