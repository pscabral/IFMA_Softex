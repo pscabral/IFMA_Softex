{
  "nbformat": 4,
  "nbformat_minor": 0,
  "metadata": {
    "colab": {
      "provenance": [],
      "authorship_tag": "ABX9TyMq8i4l24Th/RYzPRxkvWYR",
      "include_colab_link": true
    },
    "kernelspec": {
      "name": "python3",
      "display_name": "Python 3"
    },
    "language_info": {
      "name": "python"
    }
  },
  "cells": [
    {
      "cell_type": "markdown",
      "metadata": {
        "id": "view-in-github",
        "colab_type": "text"
      },
      "source": [
        "<a href=\"https://colab.research.google.com/github/pscabral/IFMA_Softex/blob/main/Untitled117.ipynb\" target=\"_parent\"><img src=\"https://colab.research.google.com/assets/colab-badge.svg\" alt=\"Open In Colab\"/></a>"
      ]
    },
    {
      "cell_type": "code",
      "execution_count": 1,
      "metadata": {
        "colab": {
          "base_uri": "https://localhost:8080/"
        },
        "id": "wBcMCOvlJl6D",
        "outputId": "eb2bcdf0-4da6-4573-c775-0a158278cef9"
      },
      "outputs": [
        {
          "output_type": "stream",
          "name": "stdout",
          "text": [
            "Cloning into 'GroceryStoreDataset'...\n",
            "remote: Enumerating objects: 6559, done.\u001b[K\n",
            "remote: Counting objects: 100% (266/266), done.\u001b[K\n",
            "remote: Compressing objects: 100% (231/231), done.\u001b[K\n",
            "remote: Total 6559 (delta 45), reused 35 (delta 35), pack-reused 6293\u001b[K\n",
            "Receiving objects: 100% (6559/6559), 116.26 MiB | 29.75 MiB/s, done.\n",
            "Resolving deltas: 100% (275/275), done.\n"
          ]
        }
      ],
      "source": [
        "!git clone https://github.com/marcusklasson/GroceryStoreDataset"
      ]
    },
    {
      "cell_type": "code",
      "source": [
        "import matplotlib.pyplot as plt\n",
        "from glob import glob\n",
        "\n",
        "from keras.models import Sequential\n",
        "from keras.layers import Conv2D, MaxPooling2D, Activation, Dropout, Flatten, Dense\n",
        "from keras.preprocessing.image import ImageDataGenerator, img_to_array, load_img"
      ],
      "metadata": {
        "id": "NRY9D0HkKoVz"
      },
      "execution_count": null,
      "outputs": []
    },
    {
      "cell_type": "code",
      "source": [
        "train_path = \"../content/GroceryStoreDataset/dataset/train\"\n",
        "test_path = \"../content/GroceryStoreDataset/dataset/test\"\n",
        "# a sample apple braeburn image\n",
        "\n",
        "img = load_img(train_path + \"/Fruit/Banana/Banana_045.jpg\")\n",
        "plt.imshow(img)\n",
        "plt.axis(\"off\")\n",
        "plt.show()"
      ],
      "metadata": {
        "id": "NE2ZOmP8Krog"
      },
      "execution_count": null,
      "outputs": []
    },
    {
      "cell_type": "code",
      "source": [
        "# image matrix shape with rgb\n",
        "x = img_to_array(img)\n",
        "x.shape"
      ],
      "metadata": {
        "colab": {
          "base_uri": "https://localhost:8080/"
        },
        "id": "xZImlEB8LdJO",
        "outputId": "2011dedd-2dee-4c0e-bb46-ae1f7f6b437f"
      },
      "execution_count": 5,
      "outputs": [
        {
          "output_type": "execute_result",
          "data": {
            "text/plain": [
              "(348, 348, 3)"
            ]
          },
          "metadata": {},
          "execution_count": 5
        }
      ]
    },
    {
      "cell_type": "code",
      "source": [
        "# Assuming you have defined 'train_path' somewhere in your code\n",
        "import glob\n",
        "train_path = \"/content/GroceryStoreDataset/dataset/train\"  # Replace with the actual path\n",
        "\n",
        "classNames = glob.glob(train_path + \"/*\")\n",
        "numberOfClasses = len(classNames)\n",
        "print(\"The number of classes:\", numberOfClasses)"
      ],
      "metadata": {
        "colab": {
          "base_uri": "https://localhost:8080/"
        },
        "id": "AO-YT93KNRGh",
        "outputId": "d46f3008-9ee7-4951-aa4f-47369e0481ea"
      },
      "execution_count": 6,
      "outputs": [
        {
          "output_type": "stream",
          "name": "stdout",
          "text": [
            "The number of classes: 3\n"
          ]
        }
      ]
    },
    {
      "cell_type": "code",
      "source": [
        "model = Sequential()\n",
        "\n",
        "model.add(Conv2D(64, (3, 3), input_shape=x.shape))\n",
        "model.add(Activation(\"relu\"))\n",
        "model.add(MaxPooling2D())\n",
        "\n",
        "model.add(Conv2D(64, (3, 3)))\n",
        "model.add(Activation(\"relu\"))\n",
        "model.add(MaxPooling2D())\n",
        "\n",
        "model.add(Conv2D(128, (3, 3)))\n",
        "model.add(Activation(\"relu\"))\n",
        "model.add(MaxPooling2D())\n",
        "\n",
        "model.add(Flatten())\n",
        "model.add(Dense(512))\n",
        "model.add(Activation(\"relu\"))\n",
        "model.add(Dropout(0.3))\n",
        "model.add(Dense(numberOfClasses))\n",
        "model.add(Activation(\"softmax\"))\n"
      ],
      "metadata": {
        "id": "5NN_9VpzOHvL"
      },
      "execution_count": 7,
      "outputs": []
    },
    {
      "cell_type": "code",
      "source": [
        "model.compile(loss = \"categorical_crossentropy\",\n",
        "              optimizer = \"rmsprop\",\n",
        "              metrics = [\"accuracy\"])"
      ],
      "metadata": {
        "id": "hSaWVQH8PGg0"
      },
      "execution_count": 8,
      "outputs": []
    },
    {
      "cell_type": "code",
      "source": [
        "batch_size = 32"
      ],
      "metadata": {
        "id": "DJLnFbcGPKYO"
      },
      "execution_count": 9,
      "outputs": []
    },
    {
      "cell_type": "code",
      "source": [
        "train_datagen = ImageDataGenerator(rescale = 1./255,\n",
        "                   shear_range = 0.3,\n",
        "                   horizontal_flip = True,\n",
        "                   zoom_range = 0.3)\n",
        "batch_size = 32\n",
        "\n",
        "test_datagen = ImageDataGenerator(rescale = 1./255)\n",
        "\n",
        "train_generator = train_datagen.flow_from_directory(train_path, target_size = x.shape[:2], batch_size = batch_size, color_mode = \"rgb\", class_mode = \"categorical\")\n",
        "test_generator = test_datagen.flow_from_directory(test_path, target_size = x.shape[:2], batch_size = batch_size, color_mode = \"rgb\", class_mode = \"categorical\")\n"
      ],
      "metadata": {
        "colab": {
          "base_uri": "https://localhost:8080/"
        },
        "id": "FH76RIlgPPq2",
        "outputId": "5295b6d2-b91b-4be8-df53-64610a84077e"
      },
      "execution_count": 10,
      "outputs": [
        {
          "output_type": "stream",
          "name": "stdout",
          "text": [
            "Found 2640 images belonging to 3 classes.\n",
            "Found 2485 images belonging to 3 classes.\n"
          ]
        }
      ]
    },
    {
      "cell_type": "code",
      "source": [
        "import numpy as np\n",
        "import pandas as pd\n",
        "\n",
        "# Caminho para o arquivo CSV com os rótulos\n",
        "csv_file_path = '/content/GroceryStoreDataset/dataset/classes.csv'\n",
        "\n",
        "# Carregue os rótulos do arquivo CSV em um DataFrame do Pandas\n",
        "df = pd.read_csv(csv_file_path)\n",
        "\n",
        "# Converta o DataFrame em um array NumPy\n",
        "labels = df.values\n",
        "\n",
        "# Agora você pode imprimir os rótulos\n",
        "print(labels)"
      ],
      "metadata": {
        "colab": {
          "base_uri": "https://localhost:8080/"
        },
        "id": "DfLbuFuAI8i-",
        "outputId": "4b02f9a2-f4a6-4020-b9a4-59d133f22899"
      },
      "execution_count": 11,
      "outputs": [
        {
          "output_type": "stream",
          "name": "stdout",
          "text": [
            "[['Golden-Delicious' 0 'Apple' 0\n",
            "  '/iconic-images-and-descriptions/Fruit/Apple/Golden-Delicious/Golden-Delicious_Iconic.jpg'\n",
            "  '/iconic-images-and-descriptions/Fruit/Apple/Golden-Delicious/Golden-Delicious_Description.txt']\n",
            " ['Granny-Smith' 1 'Apple' 0\n",
            "  '/iconic-images-and-descriptions/Fruit/Apple/Granny-Smith/Granny-Smith_Iconic.jpg'\n",
            "  '/iconic-images-and-descriptions/Fruit/Apple/Granny-Smith/Granny-Smith_Description.txt']\n",
            " ['Pink-Lady' 2 'Apple' 0\n",
            "  '/iconic-images-and-descriptions/Fruit/Apple/Pink-Lady/Pink-Lady_Iconic.jpg'\n",
            "  '/iconic-images-and-descriptions/Fruit/Apple/Pink-Lady/Pink-Lady_Description.txt']\n",
            " ['Red-Delicious' 3 'Apple' 0\n",
            "  '/iconic-images-and-descriptions/Fruit/Apple/Red-Delicious/Red-Delicious_Iconic.jpg'\n",
            "  '/iconic-images-and-descriptions/Fruit/Apple/Red-Delicious/Red-Delicious_Description.txt']\n",
            " ['Royal-Gala' 4 'Apple' 0\n",
            "  '/iconic-images-and-descriptions/Fruit/Apple/Royal-Gala/Royal-Gala_Iconic.jpg'\n",
            "  '/iconic-images-and-descriptions/Fruit/Apple/Royal-Gala/Royal-Gala_Description.txt']\n",
            " ['Avocado' 5 'Avocado' 1\n",
            "  '/iconic-images-and-descriptions/Fruit/Avocado/Avocado_Iconic.jpg'\n",
            "  '/iconic-images-and-descriptions/Fruit/Avocado/Avocado_Description.txt']\n",
            " ['Banana' 6 'Banana' 2\n",
            "  '/iconic-images-and-descriptions/Fruit/Banana/Banana_Iconic.jpg'\n",
            "  '/iconic-images-and-descriptions/Fruit/Banana/Banana_Description.txt']\n",
            " ['Kiwi' 7 'Kiwi' 3\n",
            "  '/iconic-images-and-descriptions/Fruit/Kiwi/Kiwi_Iconic.jpg'\n",
            "  '/iconic-images-and-descriptions/Fruit/Kiwi/Kiwi_Description.txt']\n",
            " ['Lemon' 8 'Lemon' 4\n",
            "  '/iconic-images-and-descriptions/Fruit/Lemon/Lemon_Iconic.jpg'\n",
            "  '/iconic-images-and-descriptions/Fruit/Lemon/Lemon_Description.txt']\n",
            " ['Lime' 9 'Lime' 5\n",
            "  '/iconic-images-and-descriptions/Fruit/Lime/Lime_Iconic.jpg'\n",
            "  '/iconic-images-and-descriptions/Fruit/Lime/Lime_Description.txt']\n",
            " ['Mango' 10 'Mango' 6\n",
            "  '/iconic-images-and-descriptions/Fruit/Mango/Mango_Iconic.jpg'\n",
            "  '/iconic-images-and-descriptions/Fruit/Mango/Mango_Description.txt']\n",
            " ['Cantaloupe' 11 'Melon' 7\n",
            "  '/iconic-images-and-descriptions/Fruit/Melon/Cantaloupe/Cantaloupe_Iconic.jpg'\n",
            "  '/iconic-images-and-descriptions/Fruit/Melon/Cantaloupe/Cantaloupe_Description.txt']\n",
            " ['Galia-Melon' 12 'Melon' 7\n",
            "  '/iconic-images-and-descriptions/Fruit/Melon/Galia-Melon/Galia-Melon_Iconic.jpg'\n",
            "  '/iconic-images-and-descriptions/Fruit/Melon/Galia-Melon/Galia-Melon_Description.txt']\n",
            " ['Honeydew-Melon' 13 'Melon' 7\n",
            "  '/iconic-images-and-descriptions/Fruit/Melon/Honeydew-Melon/Honeydew-Melon_Iconic.jpg'\n",
            "  '/iconic-images-and-descriptions/Fruit/Melon/Honeydew-Melon/Honeydew-Melon_Description.txt']\n",
            " ['Watermelon' 14 'Melon' 7\n",
            "  '/iconic-images-and-descriptions/Fruit/Melon/Watermelon/Watermelon_Iconic.jpg'\n",
            "  '/iconic-images-and-descriptions/Fruit/Melon/Watermelon/Watermelon_Description.txt']\n",
            " ['Nectarine' 15 'Nectarine' 8\n",
            "  '/iconic-images-and-descriptions/Fruit/Nectarine/Nectarine_Iconic.jpg'\n",
            "  '/iconic-images-and-descriptions/Fruit/Nectarine/Nectarine_Description.txt']\n",
            " ['Orange' 16 'Orange' 9\n",
            "  '/iconic-images-and-descriptions/Fruit/Orange/Orange_Iconic.jpg'\n",
            "  '/iconic-images-and-descriptions/Fruit/Orange/Orange_Description.txt']\n",
            " ['Papaya' 17 'Papaya' 10\n",
            "  '/iconic-images-and-descriptions/Fruit/Papaya/Papaya_Iconic.jpg'\n",
            "  '/iconic-images-and-descriptions/Fruit/Papaya/Papaya_Description.txt']\n",
            " ['Passion-Fruit' 18 'Passion-Fruit' 11\n",
            "  '/iconic-images-and-descriptions/Fruit/Passion-Fruit/Passion-Fruit_Iconic.jpg'\n",
            "  '/iconic-images-and-descriptions/Fruit/Passion-Fruit/Passion-Fruit_Description.txt']\n",
            " ['Peach' 19 'Peach' 12\n",
            "  '/iconic-images-and-descriptions/Fruit/Peach/Peach_Iconic.jpg'\n",
            "  '/iconic-images-and-descriptions/Fruit/Peach/Peach_Description.txt']\n",
            " ['Anjou' 20 'Pear' 13\n",
            "  '/iconic-images-and-descriptions/Fruit/Pear/Anjou/Anjou_Iconic.jpg'\n",
            "  '/iconic-images-and-descriptions/Fruit/Pear/Anjou/Anjou_Description.txt']\n",
            " ['Conference' 21 'Pear' 13\n",
            "  '/iconic-images-and-descriptions/Fruit/Pear/Conference/Conference_Iconic.jpg'\n",
            "  '/iconic-images-and-descriptions/Fruit/Pear/Conference/Conference_Description.txt']\n",
            " ['Kaiser' 22 'Pear' 13\n",
            "  '/iconic-images-and-descriptions/Fruit/Pear/Kaiser/Kaiser_Iconic.jpg'\n",
            "  '/iconic-images-and-descriptions/Fruit/Pear/Kaiser/Kaiser_Description.txt']\n",
            " ['Pineapple' 23 'Pineapple' 14\n",
            "  '/iconic-images-and-descriptions/Fruit/Pineapple/Pineapple_Iconic.jpg'\n",
            "  '/iconic-images-and-descriptions/Fruit/Pineapple/Pineapple_Description.txt']\n",
            " ['Plum' 24 'Plum' 15\n",
            "  '/iconic-images-and-descriptions/Fruit/Plum/Plum_Iconic.jpg'\n",
            "  '/iconic-images-and-descriptions/Fruit/Plum/Plum_Description.txt']\n",
            " ['Pomegranate' 25 'Pomegranate' 16\n",
            "  '/iconic-images-and-descriptions/Fruit/Pomegranate/Pomegranate_Iconic.jpg'\n",
            "  '/iconic-images-and-descriptions/Fruit/Pomegranate/Pomegranate_Description.txt']\n",
            " ['Red-Grapefruit' 26 'Red-Grapefruit' 17\n",
            "  '/iconic-images-and-descriptions/Fruit/Red-Grapefruit/Red-Grapefruit_Iconic.jpg'\n",
            "  '/iconic-images-and-descriptions/Fruit/Red-Grapefruit/Red-Grapefruit_Description.txt']\n",
            " ['Satsumas' 27 'Satsumas' 18\n",
            "  '/iconic-images-and-descriptions/Fruit/Satsumas/Satsumas_Iconic.jpg'\n",
            "  '/iconic-images-and-descriptions/Fruit/Satsumas/Satsumas_Description.txt']\n",
            " ['Bravo-Apple-Juice' 28 'Juice' 19\n",
            "  '/iconic-images-and-descriptions/Packages/Juice/Bravo-Apple-Juice/Bravo-Apple-Juice_Iconic.jpg'\n",
            "  '/iconic-images-and-descriptions/Packages/Juice/Bravo-Apple-Juice/Bravo-Apple-Juice_Description.txt']\n",
            " ['Bravo-Orange-Juice' 29 'Juice' 19\n",
            "  '/iconic-images-and-descriptions/Packages/Juice/Bravo-Orange-Juice/Bravo-Orange-Juice_Iconic.jpg'\n",
            "  '/iconic-images-and-descriptions/Packages/Juice/Bravo-Orange-Juice/Bravo-Orange-Juice_Description.txt']\n",
            " ['God-Morgon-Apple-Juice' 30 'Juice' 19\n",
            "  '/iconic-images-and-descriptions/Packages/Juice/God-Morgon-Apple-Juice/God-Morgon-Apple-Juice_Iconic.jpg'\n",
            "  '/iconic-images-and-descriptions/Packages/Juice/God-Morgon-Apple-Juice/God-Morgon-Apple-Juice_Description.txt']\n",
            " ['God-Morgon-Orange-Juice' 31 'Juice' 19\n",
            "  '/iconic-images-and-descriptions/Packages/Juice/God-Morgon-Orange-Juice/God-Morgon-Orange-Juice_Iconic.jpg'\n",
            "  '/iconic-images-and-descriptions/Packages/Juice/God-Morgon-Orange-Juice/God-Morgon-Orange-Juice_Description.txt']\n",
            " ['God-Morgon-Orange-Red-Grapefruit-Juice' 32 'Juice' 19\n",
            "  '/iconic-images-and-descriptions/Packages/Juice/God-Morgon-Orange-Red-Grapefruit-Juice/God-Morgon-Orange-Red-Grapefruit-Juice_Iconic.jpg'\n",
            "  '/iconic-images-and-descriptions/Packages/Juice/God-Morgon-Orange-Red-Grapefruit-Juice/God-Morgon-Orange-Red-Grapefruit-Juice_Description.txt']\n",
            " ['God-Morgon-Red-Grapefruit-Juice' 33 'Juice' 19\n",
            "  '/iconic-images-and-descriptions/Packages/Juice/God-Morgon-Red-Grapefruit-Juice/God-Morgon-Red-Grapefruit-Juice_Iconic.jpg'\n",
            "  '/iconic-images-and-descriptions/Packages/Juice/God-Morgon-Red-Grapefruit-Juice/God-Morgon-Red-Grapefruit-Juice_Description.txt']\n",
            " ['Tropicana-Apple-Juice' 34 'Juice' 19\n",
            "  '/iconic-images-and-descriptions/Packages/Juice/Tropicana-Apple-Juice/Tropicana-Apple-Juice_Iconic.jpg'\n",
            "  '/iconic-images-and-descriptions/Packages/Juice/Tropicana-Apple-Juice/Tropicana-Apple-Juice_Description.txt']\n",
            " ['Tropicana-Golden-Grapefruit' 35 'Juice' 19\n",
            "  '/iconic-images-and-descriptions/Packages/Juice/Tropicana-Golden-Grapefruit/Tropicana-Golden-Grapefruit_Iconic.jpg'\n",
            "  '/iconic-images-and-descriptions/Packages/Juice/Tropicana-Golden-Grapefruit/Tropicana-Golden-Grapefruit_Description.txt']\n",
            " ['Tropicana-Juice-Smooth' 36 'Juice' 19\n",
            "  '/iconic-images-and-descriptions/Packages/Juice/Tropicana-Juice-Smooth/Tropicana-Juice-Smooth_Iconic.jpg'\n",
            "  '/iconic-images-and-descriptions/Packages/Juice/Tropicana-Juice-Smooth/Tropicana-Juice-Smooth_Description.txt']\n",
            " ['Tropicana-Mandarin-Morning' 37 'Juice' 19\n",
            "  '/iconic-images-and-descriptions/Packages/Juice/Tropicana-Mandarin-Morning/Tropicana-Mandarin-Morning_Iconic.jpg'\n",
            "  '/iconic-images-and-descriptions/Packages/Juice/Tropicana-Mandarin-Morning/Tropicana-Mandarin-Morning_Description.txt']\n",
            " ['Arla-Ecological-Medium-Fat-Milk' 38 'Milk' 20\n",
            "  '/iconic-images-and-descriptions/Packages/Milk/Arla-Ecological-Medium-Fat-Milk/Arla-Ecological-Medium-Fat-Milk_Iconic.jpg'\n",
            "  '/iconic-images-and-descriptions/Packages/Milk/Arla-Ecological-Medium-Fat-Milk/Arla-Ecological-Medium-Fat-Milk_Description.txt']\n",
            " ['Arla-Lactose-Medium-Fat-Milk' 39 'Milk' 20\n",
            "  '/iconic-images-and-descriptions/Packages/Milk/Arla-Lactose-Medium-Fat-Milk/Arla-Lactose-Medium-Fat-Milk_Iconic.jpg'\n",
            "  '/iconic-images-and-descriptions/Packages/Milk/Arla-Lactose-Medium-Fat-Milk/Arla-Lactose-Medium-Fat-Milk_Description.txt']\n",
            " ['Arla-Medium-Fat-Milk' 40 'Milk' 20\n",
            "  '/iconic-images-and-descriptions/Packages/Milk/Arla-Medium-Fat-Milk/Arla-Medium-Fat-Milk_Iconic.jpg'\n",
            "  '/iconic-images-and-descriptions/Packages/Milk/Arla-Medium-Fat-Milk/Arla-Medium-Fat-Milk_Description.txt']\n",
            " ['Arla-Standard-Milk' 41 'Milk' 20\n",
            "  '/iconic-images-and-descriptions/Packages/Milk/Arla-Standard-Milk/Arla-Standard-Milk_Iconic.jpg'\n",
            "  '/iconic-images-and-descriptions/Packages/Milk/Arla-Standard-Milk/Arla-Standard-Milk_Description.txt']\n",
            " ['Garant-Ecological-Medium-Fat-Milk' 42 'Milk' 20\n",
            "  '/iconic-images-and-descriptions/Packages/Milk/Garant-Ecological-Medium-Fat-Milk/Garant-Ecological-Medium-Fat-Milk_Iconic.jpg'\n",
            "  '/iconic-images-and-descriptions/Packages/Milk/Garant-Ecological-Medium-Fat-Milk/Garant-Ecological-Medium-Fat-Milk_Description.txt']\n",
            " ['Garant-Ecological-Standard-Milk' 43 'Milk' 20\n",
            "  '/iconic-images-and-descriptions/Packages/Milk/Garant-Ecological-Standard-Milk/Garant-Ecological-Standard-Milk_Iconic.jpg'\n",
            "  '/iconic-images-and-descriptions/Packages/Milk/Garant-Ecological-Standard-Milk/Garant-Ecological-Standard-Milk_Description.txt']\n",
            " ['Oatly-Natural-Oatghurt' 44 'Oatghurt' 21\n",
            "  '/iconic-images-and-descriptions/Packages/Oatghurt/Oatly-Natural-Oatghurt/Oatly-Natural-Oatghurt_Iconic.jpg'\n",
            "  '/iconic-images-and-descriptions/Packages/Oatghurt/Oatly-Natural-Oatghurt/Oatly-Natural-Oatghurt_Description.txt']\n",
            " ['Oatly-Oat-Milk' 45 'Oat-Milk' 22\n",
            "  '/iconic-images-and-descriptions/Packages/Oat-Milk/Oatly-Oat-Milk/Oatly-Oat-Milk_Iconic.jpg'\n",
            "  '/iconic-images-and-descriptions/Packages/Oat-Milk/Oatly-Oat-Milk/Oatly-Oat-Milk_Description.txt']\n",
            " ['Arla-Ecological-Sour-Cream' 46 'Sour-Cream' 23\n",
            "  '/iconic-images-and-descriptions/Packages/Sour-Cream/Arla-Ecological-Sour-Cream/Arla-Ecological-Sour-Cream_Iconic.jpg'\n",
            "  '/iconic-images-and-descriptions/Packages/Sour-Cream/Arla-Ecological-Sour-Cream/Arla-Ecological-Sour-Cream_Description.txt']\n",
            " ['Arla-Sour-Cream' 47 'Sour-Cream' 23\n",
            "  '/iconic-images-and-descriptions/Packages/Sour-Cream/Arla-Sour-Cream/Arla-Sour-Cream_Iconic.jpg'\n",
            "  '/iconic-images-and-descriptions/Packages/Sour-Cream/Arla-Sour-Cream/Arla-Sour-Cream_Description.txt']\n",
            " ['Arla-Sour-Milk' 48 'Sour-Milk' 24\n",
            "  '/iconic-images-and-descriptions/Packages/Sour-Milk/Arla-Sour-Milk/Arla-Sour-Milk_Iconic.jpg'\n",
            "  '/iconic-images-and-descriptions/Packages/Sour-Milk/Arla-Sour-Milk/Arla-Sour-Milk_Description.txt']\n",
            " ['Alpro-Blueberry-Soyghurt' 49 'Soyghurt' 25\n",
            "  '/iconic-images-and-descriptions/Packages/Soyghurt/Alpro-Blueberry-Soyghurt/Alpro-Blueberry-Soyghurt_Iconic.jpg'\n",
            "  '/iconic-images-and-descriptions/Packages/Soyghurt/Alpro-Blueberry-Soyghurt/Alpro-Blueberry-Soyghurt_Description.txt']\n",
            " ['Alpro-Vanilla-Soyghurt' 50 'Soyghurt' 25\n",
            "  '/iconic-images-and-descriptions/Packages/Soyghurt/Alpro-Vanilla-Soyghurt/Alpro-Vanilla-Soyghurt_Iconic.jpg'\n",
            "  '/iconic-images-and-descriptions/Packages/Soyghurt/Alpro-Vanilla-Soyghurt/Alpro-Vanilla-Soyghurt_Description.txt']\n",
            " ['Alpro-Fresh-Soy-Milk' 51 'Soy-Milk' 26\n",
            "  '/iconic-images-and-descriptions/Packages/Soy-Milk/Alpro-Fresh-Soy-Milk/Alpro-Fresh-Soy-Milk_Iconic.jpg'\n",
            "  '/iconic-images-and-descriptions/Packages/Soy-Milk/Alpro-Fresh-Soy-Milk/Alpro-Fresh-Soy-Milk_Description.txt']\n",
            " ['Alpro-Shelf-Soy-Milk' 52 'Soy-Milk' 26\n",
            "  '/iconic-images-and-descriptions/Packages/Soy-Milk/Alpro-Shelf-Soy-Milk/Alpro-Shelf-Soy-Milk_Iconic.jpg'\n",
            "  '/iconic-images-and-descriptions/Packages/Soy-Milk/Alpro-Shelf-Soy-Milk/Alpro-Shelf-Soy-Milk_Description.txt']\n",
            " ['Arla-Mild-Vanilla-Yoghurt' 53 'Yoghurt' 27\n",
            "  '/iconic-images-and-descriptions/Packages/Yoghurt/Arla-Mild-Vanilla-Yoghurt/Arla-Mild-Vanilla-Yoghurt_Iconic.jpg'\n",
            "  '/iconic-images-and-descriptions/Packages/Yoghurt/Arla-Mild-Vanilla-Yoghurt/Arla-Mild-Vanilla-Yoghurt_Description.txt']\n",
            " ['Arla-Natural-Mild-Low-Fat-Yoghurt' 54 'Yoghurt' 27\n",
            "  '/iconic-images-and-descriptions/Packages/Yoghurt/Arla-Natural-Mild-Low-Fat-Yoghurt/Arla-Natural-Mild-Low-Fat-Yoghurt_Iconic.jpg'\n",
            "  '/iconic-images-and-descriptions/Packages/Yoghurt/Arla-Natural-Mild-Low-Fat-Yoghurt/Arla-Natural-Mild-Low-Fat-Yoghurt_Description.txt']\n",
            " ['Arla-Natural-Yoghurt' 55 'Yoghurt' 27\n",
            "  '/iconic-images-and-descriptions/Packages/Yoghurt/Arla-Natural-Yoghurt/Arla-Natural-Yoghurt_Iconic.jpg'\n",
            "  '/iconic-images-and-descriptions/Packages/Yoghurt/Arla-Natural-Yoghurt/Arla-Natural-Yoghurt_Description.txt']\n",
            " ['Valio-Vanilla-Yoghurt' 56 'Yoghurt' 27\n",
            "  '/iconic-images-and-descriptions/Packages/Yoghurt/Valio-Vanilla-Yoghurt/Valio-Vanilla-Yoghurt_Iconic.jpg'\n",
            "  '/iconic-images-and-descriptions/Packages/Yoghurt/Valio-Vanilla-Yoghurt/Valio-Vanilla-Yoghurt_Description.txt']\n",
            " ['Yoggi-Strawberry-Yoghurt' 57 'Yoghurt' 27\n",
            "  '/iconic-images-and-descriptions/Packages/Yoghurt/Yoggi-Strawberry-Yoghurt/Yoggi-Strawberry-Yoghurt_Iconic.jpg'\n",
            "  '/iconic-images-and-descriptions/Packages/Yoghurt/Yoggi-Strawberry-Yoghurt/Yoggi-Strawberry-Yoghurt_Description.txt']\n",
            " ['Yoggi-Vanilla-Yoghurt' 58 'Yoghurt' 27\n",
            "  '/iconic-images-and-descriptions/Packages/Yoghurt/Yoggi-Vanilla-Yoghurt/Yoggi-Vanilla-Yoghurt_Iconic.jpg'\n",
            "  '/iconic-images-and-descriptions/Packages/Yoghurt/Yoggi-Vanilla-Yoghurt/Yoggi-Vanilla-Yoghurt_Description.txt']\n",
            " ['Asparagus' 59 'Asparagus' 28\n",
            "  '/iconic-images-and-descriptions/Vegetables/Asparagus/Asparagus_Iconic.jpg'\n",
            "  '/iconic-images-and-descriptions/Vegetables/Asparagus/Asparagus_Description.txt']\n",
            " ['Aubergine' 60 'Aubergine' 29\n",
            "  '/iconic-images-and-descriptions/Vegetables/Aubergine/Aubergine_Iconic.jpg'\n",
            "  '/iconic-images-and-descriptions/Vegetables/Aubergine/Aubergine_Description.txt']\n",
            " ['Cabbage' 61 'Cabbage' 30\n",
            "  '/iconic-images-and-descriptions/Vegetables/Cabbage/Cabbage_Iconic.jpg'\n",
            "  '/iconic-images-and-descriptions/Vegetables/Cabbage/Cabbage_Description.txt']\n",
            " ['Carrots' 62 'Carrots' 31\n",
            "  '/iconic-images-and-descriptions/Vegetables/Carrots/Carrots_Iconic.jpg'\n",
            "  '/iconic-images-and-descriptions/Vegetables/Carrots/Carrots_Description.txt']\n",
            " ['Cucumber' 63 'Cucumber' 32\n",
            "  '/iconic-images-and-descriptions/Vegetables/Cucumber/Cucumber_Iconic.jpg'\n",
            "  '/iconic-images-and-descriptions/Vegetables/Cucumber/Cucumber_Description.txt']\n",
            " ['Garlic' 64 'Garlic' 33\n",
            "  '/iconic-images-and-descriptions/Vegetables/Garlic/Garlic_Iconic.jpg'\n",
            "  '/iconic-images-and-descriptions/Vegetables/Garlic/Garlic_Description.txt']\n",
            " ['Ginger' 65 'Ginger' 34\n",
            "  '/iconic-images-and-descriptions/Vegetables/Ginger/Ginger_Iconic.jpg'\n",
            "  '/iconic-images-and-descriptions/Vegetables/Ginger/Ginger_Description.txt']\n",
            " ['Leek' 66 'Leek' 35\n",
            "  '/iconic-images-and-descriptions/Vegetables/Leek/Leek_Iconic.jpg'\n",
            "  '/iconic-images-and-descriptions/Vegetables/Leek/Leek_Description.txt']\n",
            " ['Brown-Cap-Mushroom' 67 'Mushroom' 36\n",
            "  '/iconic-images-and-descriptions/Vegetables/Mushroom/Brown-Cap-Mushroom/Brown-Cap-Mushroom_Iconic.jpg'\n",
            "  '/iconic-images-and-descriptions/Vegetables/Mushroom/Brown-Cap-Mushroom/Brown-Cap-Mushroom_Description.txt']\n",
            " ['Yellow-Onion' 68 'Onion' 37\n",
            "  '/iconic-images-and-descriptions/Vegetables/Onion/Yellow-Onion/Yellow-Onion_Iconic.jpg'\n",
            "  '/iconic-images-and-descriptions/Vegetables/Onion/Yellow-Onion/Yellow-Onion_Description.txt']\n",
            " ['Green-Bell-Pepper' 69 'Pepper' 38\n",
            "  '/iconic-images-and-descriptions/Vegetables/Pepper/Green-Bell-Pepper/Green-Bell-Pepper_Iconic.jpg'\n",
            "  '/iconic-images-and-descriptions/Vegetables/Pepper/Green-Bell-Pepper/Green-Bell-Pepper_Description.txt']\n",
            " ['Orange-Bell-Pepper' 70 'Pepper' 38\n",
            "  '/iconic-images-and-descriptions/Vegetables/Pepper/Orange-Bell-Pepper/Orange-Bell-Pepper_Iconic.jpg'\n",
            "  '/iconic-images-and-descriptions/Vegetables/Pepper/Orange-Bell-Pepper/Orange-Bell-Pepper_Description.txt']\n",
            " ['Red-Bell-Pepper' 71 'Pepper' 38\n",
            "  '/iconic-images-and-descriptions/Vegetables/Pepper/Red-Bell-Pepper/Red-Bell-Pepper_Iconic.jpg'\n",
            "  '/iconic-images-and-descriptions/Vegetables/Pepper/Red-Bell-Pepper/Red-Bell-Pepper_Description.txt']\n",
            " ['Yellow-Bell-Pepper' 72 'Pepper' 38\n",
            "  '/iconic-images-and-descriptions/Vegetables/Pepper/Yellow-Bell-Pepper/Yellow-Bell-Pepper_Iconic.jpg'\n",
            "  '/iconic-images-and-descriptions/Vegetables/Pepper/Yellow-Bell-Pepper/Yellow-Bell-Pepper_Description.txt']\n",
            " ['Floury-Potato' 73 'Potato' 39\n",
            "  '/iconic-images-and-descriptions/Vegetables/Potato/Floury-Potato/Floury-Potato_Iconic.jpg'\n",
            "  '/iconic-images-and-descriptions/Vegetables/Potato/Floury-Potato/Floury-Potato_Description.txt']\n",
            " ['Solid-Potato' 74 'Potato' 39\n",
            "  '/iconic-images-and-descriptions/Vegetables/Potato/Solid-Potato/Solid-Potato_Iconic.jpg'\n",
            "  '/iconic-images-and-descriptions/Vegetables/Potato/Solid-Potato/Solid-Potato_Description.txt']\n",
            " ['Sweet-Potato' 75 'Potato' 39\n",
            "  '/iconic-images-and-descriptions/Vegetables/Potato/Sweet-Potato/Sweet-Potato_Iconic.jpg'\n",
            "  '/iconic-images-and-descriptions/Vegetables/Potato/Sweet-Potato/Sweet-Potato_Description.txt']\n",
            " ['Red-Beet' 76 'Red-Beet' 40\n",
            "  '/iconic-images-and-descriptions/Vegetables/Red-Beet/Red-Beet_Iconic.jpg'\n",
            "  '/iconic-images-and-descriptions/Vegetables/Red-Beet/Red-Beet_Description.txt']\n",
            " ['Beef-Tomato' 77 'Tomato' 41\n",
            "  '/iconic-images-and-descriptions/Vegetables/Tomato/Beef-Tomato/Beef-Tomato_Iconic.jpg'\n",
            "  '/iconic-images-and-descriptions/Vegetables/Tomato/Beef-Tomato/Beef-Tomato_Description.txt']\n",
            " ['Regular-Tomato' 78 'Tomato' 41\n",
            "  '/iconic-images-and-descriptions/Vegetables/Tomato/Regular-Tomato/Regular-Tomato_Iconic.jpg'\n",
            "  '/iconic-images-and-descriptions/Vegetables/Tomato/Regular-Tomato/Regular-Tomato_Description.txt']\n",
            " ['Vine-Tomato' 79 'Tomato' 41\n",
            "  '/iconic-images-and-descriptions/Vegetables/Tomato/Vine-Tomato/Vine-Tomato_Iconic.jpg'\n",
            "  '/iconic-images-and-descriptions/Vegetables/Tomato/Vine-Tomato/Vine-Tomato_Description.txt']\n",
            " ['Zucchini' 80 'Zucchini' 42\n",
            "  '/iconic-images-and-descriptions/Vegetables/Zucchini/Zucchini_Iconic.jpg'\n",
            "  '/iconic-images-and-descriptions/Vegetables/Zucchini/Zucchini_Description.txt']]\n"
          ]
        }
      ]
    },
    {
      "cell_type": "code",
      "source": [
        "history = model.fit(train_generator,  # Use train_generator diretamente como entrada para o método fit\n",
        "                    steps_per_epoch=1600 // batch_size,\n",
        "                    epochs=10,\n",
        "                    validation_data=test_generator,\n",
        "                    validation_steps=800 // batch_size)"
      ],
      "metadata": {
        "colab": {
          "base_uri": "https://localhost:8080/"
        },
        "id": "6Ls67XT0PUfr",
        "outputId": "5fdbd8cb-a1f0-423c-ed72-e559bf9926d9"
      },
      "execution_count": null,
      "outputs": [
        {
          "output_type": "stream",
          "name": "stdout",
          "text": [
            "Epoch 1/10\n",
            " 7/50 [===>..........................] - ETA: 11:37 - loss: 7.9643 - accuracy: 0.3942"
          ]
        }
      ]
    },
    {
      "cell_type": "code",
      "source": [
        "def save_model(fileName):\n",
        "    model.save_weights(fileName + \".h5\")\n",
        "\n",
        "    import json\n",
        "    with open(fileName + \".json\", \"w\") as f:\n",
        "        json.dump(history.history, f)\n",
        "\n",
        "def load_json(fileName):\n",
        "    import codecs\n",
        "    import json\n",
        "    with codecs.open(fileName + \".json\", \"r\", encoding=\"utf-8\") as f:\n",
        "        h = json.loads(f.read())\n",
        "\n",
        "    return h\n",
        "\n",
        "# Descomente estas linhas para salvar e carregar o modelo\n",
        "save_model(\"/content/test\")\n",
        "h = load_json(\"/content/test\")"
      ],
      "metadata": {
        "id": "-Ua0O42W54YU"
      },
      "execution_count": null,
      "outputs": []
    },
    {
      "cell_type": "code",
      "source": [
        "print(history.history.keys())\n",
        "plt.figure()\n",
        "plt.plot(history.history[\"loss\"], label = \"Train Loss\")\n",
        "plt.plot(history.history[\"val_loss\"], label = \"Validation Loss\")\n",
        "plt.legend()\n",
        "plt.show()"
      ],
      "metadata": {
        "id": "lSZBCMu_5_4Y"
      },
      "execution_count": null,
      "outputs": []
    },
    {
      "cell_type": "code",
      "source": [
        "plt.figure()\n",
        "plt.plot(history.history[\"accuracy\"], label = \"Train Accuracy\")\n",
        "plt.plot(history.history[\"val_accuracy\"], label = \"Validation Accuracy\")\n",
        "plt.legend()\n",
        "plt.show()"
      ],
      "metadata": {
        "id": "N-Wz8LEq6RkI"
      },
      "execution_count": null,
      "outputs": []
    },
    {
      "cell_type": "code",
      "source": [
        "import numpy as np\n",
        "import matplotlib.pyplot as plt\n",
        "from sklearn.metrics import confusion_matrix\n",
        "from sklearn.metrics import classification_report\n",
        "\n",
        "# Suponha que você tenha obtido as previsões do modelo e as verdadeiras labels do conjunto de teste\n",
        "y_true = np.array([1, 0, 1, 1, 0, 1, 0, 0, 1, 0])  # Labels reais\n",
        "y_pred = np.array([1, 0, 1, 1, 0, 0, 1, 0, 1, 1])  # Previsões do modelo\n",
        "\n",
        "# Calcula a matriz de confusão\n",
        "confusion = confusion_matrix(y_true, y_pred)\n",
        "\n",
        "# Plota a matriz de confusão\n",
        "plt.figure(figsize=(8, 6))\n",
        "plt.imshow(confusion, cmap=plt.cm.Blues)\n",
        "plt.title(\"Matriz de Confusão\")\n",
        "plt.colorbar()\n",
        "tick_marks = np.arange(2)\n",
        "plt.xticks(tick_marks, [\"Negativo\", \"Positivo\"], rotation=45)\n",
        "plt.yticks(tick_marks, [\"Negativo\", \"Positivo\"])\n",
        "\n",
        "# Anota as células com os valores da matriz de confusão\n",
        "thresh = confusion.max() / 2.\n",
        "for i in range(2):\n",
        "    for j in range(2):\n",
        "        plt.text(j, i, f\"{confusion[i, j]}\", horizontalalignment=\"center\", color=\"white\" if confusion[i, j] > thresh else \"black\")\n",
        "\n",
        "plt.xlabel(\"Previsão do Modelo\")\n",
        "plt.ylabel(\"Real\")\n",
        "\n",
        "# Mostra a matriz de confusão\n",
        "plt.show()"
      ],
      "metadata": {
        "id": "8etx6sfh8XUy"
      },
      "execution_count": null,
      "outputs": []
    },
    {
      "cell_type": "code",
      "source": [
        "import json\n",
        "\n",
        "# Carregue o arquivo JSON\n",
        "with open('/content/test.json', 'r') as json_file:\n",
        "    data = json.load(json_file)\n",
        "\n",
        "# Acesse os rótulos\n",
        "rótulos = data\n",
        "\n",
        "# Agora, a variável 'rótulos' contém os dados do JSON\n",
        "print(rótulos)"
      ],
      "metadata": {
        "id": "o_oalzCI95IQ"
      },
      "execution_count": null,
      "outputs": []
    },
    {
      "cell_type": "code",
      "source": [
        "from sklearn.metrics import confusion_matrix\n",
        "\n",
        "# Suponha que você tenha as previsões do modelo (y_pred) e os rótulos verdadeiros do conjunto de validação (y_true)\n",
        "confusion = confusion_matrix(y_true, y_pred)\n",
        "\n",
        "# Exibe a matriz de confusão\n",
        "print(\"Matriz de Confusão:\")\n",
        "print(confusion)"
      ],
      "metadata": {
        "id": "dELuvRpG-5rR"
      },
      "execution_count": null,
      "outputs": []
    },
    {
      "cell_type": "code",
      "source": [
        "# Definir os valores de TP, FP, FN, TN\n",
        "TP = 4\n",
        "FP = 2\n",
        "FN = 1\n",
        "TN = 3\n",
        "\n",
        "# Calcular Precisão\n",
        "precision = TP / (TP + FP)\n",
        "\n",
        "# Calcular Recall\n",
        "recall = TP / (TP + FN)\n",
        "\n",
        "# Calcular F1-Score\n",
        "f1_score = 2 * (precision * recall) / (precision + recall)\n",
        "\n",
        "# Calcular Acurácia\n",
        "accuracy = (TP + TN) / (TP + TN + FP + FN)\n",
        "\n",
        "# Calcular Especificidade\n",
        "specificity = TN / (TN + FP)\n",
        "\n",
        "# Imprimir os resultados\n",
        "print(f'Precisão (Precision): {precision:.2f}')\n",
        "print(f'Recall (Revocação): {recall:.2f}')\n",
        "print(f'F1-Score: {f1_score:.2f}')\n",
        "print(f'Acurácia (Accuracy): {accuracy:.2f}')\n",
        "print(f'Especificidade (Specificity): {specificity:.2f}')"
      ],
      "metadata": {
        "id": "Ky5PDN6oBNNa"
      },
      "execution_count": null,
      "outputs": []
    },
    {
      "cell_type": "code",
      "source": [
        "#acurácia é a quantidade de acertos do nosso modelo divido pelo total da amostra.\n",
        "\n",
        "def acuracia (vp,vn,fp,fn):\n",
        "    return (vp + vn) / (vp + vn+ fp + fn)\n",
        "\n",
        "#precisão\n",
        "\n",
        "def precisao (vp,vn,fp,fn):\n",
        "    return vp / (vp + fp)\n",
        "\n",
        "#revocação\n",
        "\n",
        "def revocacao (vp,vn,fp,fn):\n",
        "    return vp / (vp + fn)\n",
        "\n",
        "#f1 score\n",
        "\n",
        "def f1score (vp,vn,fp,fn):\n",
        "    return 2 * ((precisao * revocacao)/(precisao + revocacao))\n",
        "\n",
        "print(acuracia(25,40,10,25))"
      ],
      "metadata": {
        "id": "0IrkvEdtCX_F"
      },
      "execution_count": null,
      "outputs": []
    },
    {
      "cell_type": "code",
      "source": [
        "import tensorflow as tf\n",
        "import h5py\n",
        "import numpy as np\n",
        "\n",
        "# Carregue o modelo a partir do arquivo HDF5\n",
        "model = tf.keras.models.load_model('/content/test.h5')\n",
        "\n",
        "# Extraia os pesos do modelo\n",
        "weights = model.get_weights()\n",
        "\n",
        "# Converta os pesos em tensores NumPy\n",
        "weights_as_numpy = [np.array(w) for w in weights]\n",
        "\n",
        "# Agora, 'weights_as_numpy' contém os parâmetros do modelo em tensores NumPy."
      ],
      "metadata": {
        "id": "UV1c9wVGDx5X"
      },
      "execution_count": null,
      "outputs": []
    },
    {
      "cell_type": "code",
      "source": [
        "import tensorflow as tf\n",
        "import h5py\n",
        "\n",
        "# Defina a função para criar um modelo com a mesma arquitetura\n",
        "def create_model():\n",
        "    model = tf.keras.Sequential([\n",
        "        # Defina as camadas do modelo da mesma forma que o modelo original\n",
        "        tf.keras.layers.Dense(64, activation='relu', input_shape=input_shape),\n",
        "        tf.keras.layers.Dense(32, activation='relu'),\n",
        "        tf.keras.layers.Dense(output_shape, activation='softmax')\n",
        "    ])\n",
        "    return model\n",
        "\n",
        "# Defina o formato da entrada e saída do modelo original\n",
        "input_shape = (input_shape_here,)  # Substitua por um valor adequado, por exemplo, (input_dim,)\n",
        "output_shape = output_shape_here  # Substitua por um valor adequado, por exemplo, num_classes\n",
        "\n",
        "# Crie um novo modelo com a mesma arquitetura\n",
        "new_model = create_model()\n",
        "\n",
        "# Carregue os pesos do arquivo HDF5\n",
        "with h5py.File('/content/test.h5', 'r') as file:\n",
        "    for layer in new_model.layers:\n",
        "        if layer.name in file:\n",
        "            layer.set_weights([arr for arr in file[layer.name]])\n",
        "\n",
        "# Agora, 'new_model' deve ter os pesos do modelo original e a mesma arquitetura."
      ],
      "metadata": {
        "id": "wL8L739AEUmn"
      },
      "execution_count": null,
      "outputs": []
    },
    {
      "cell_type": "code",
      "source": [
        "import h5py\n",
        "\n",
        "# Caminho para o arquivo HDF5 do modelo\n",
        "model_file_path = '/content/test.h5'  # Substitua pelo caminho do seu arquivo\n",
        "\n",
        "# Função para inspecionar a arquitetura do modelo HDF5\n",
        "def inspect_model_architecture(file_path):\n",
        "    with h5py.File(file_path, 'r') as file:\n",
        "        if 'model_config' in file.attrs:\n",
        "            model_config = file['model_config'][()]\n",
        "            print(\"Model Architecture:\")\n",
        "            print(model_config)\n",
        "        else:\n",
        "            print(\"Não foi possível encontrar informações de configuração da arquitetura no arquivo HDF5.\")\n",
        "\n",
        "# Função para obter informações sobre as dimensões de entrada e saída\n",
        "def get_input_output_shapes(file_path):\n",
        "    with h5py.File(file_path, 'r') as file:\n",
        "        if 'input_1' in file:\n",
        "            input_shape = file['input_1']['input_1']['shape'][()]\n",
        "            print(\"Input Shape:\", input_shape)\n",
        "        else:\n",
        "            print(\"Não foi possível encontrar informações sobre a dimensão de entrada no arquivo HDF5.\")\n",
        "\n",
        "        if 'dense_2' in file:\n",
        "            output_shape = file['dense_2']['dense_2']['shape'][()]\n",
        "            print(\"Output Shape:\", output_shape)\n",
        "        else:\n",
        "            print(\"Não foi possível encontrar informações sobre a dimensão de saída no arquivo HDF5.\")\n",
        "\n",
        "# Inspecione a arquitetura do modelo\n",
        "inspect_model_architecture(model_file_path)\n",
        "\n",
        "# Obtenha informações sobre as dimensões de entrada e saída\n",
        "get_input_output_shapes(model_file_path)"
      ],
      "metadata": {
        "id": "o_XwkLa5FFsT"
      },
      "execution_count": null,
      "outputs": []
    }
  ]
}