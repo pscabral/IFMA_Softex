{
  "nbformat": 4,
  "nbformat_minor": 0,
  "metadata": {
    "colab": {
      "provenance": [],
      "authorship_tag": "ABX9TyMQTv9BYQupfJKfLpLpKxF7",
      "include_colab_link": true
    },
    "kernelspec": {
      "name": "python3",
      "display_name": "Python 3"
    },
    "language_info": {
      "name": "python"
    }
  },
  "cells": [
    {
      "cell_type": "markdown",
      "metadata": {
        "id": "view-in-github",
        "colab_type": "text"
      },
      "source": [
        "<a href=\"https://colab.research.google.com/github/pscabral/IFMA_Softex/blob/main/dataset.ipynb\" target=\"_parent\"><img src=\"https://colab.research.google.com/assets/colab-badge.svg\" alt=\"Open In Colab\"/></a>"
      ]
    },
    {
      "cell_type": "code",
      "execution_count": 1,
      "metadata": {
        "colab": {
          "base_uri": "https://localhost:8080/"
        },
        "id": "9CBhhgz4qK5L",
        "outputId": "2c84c65c-ec04-46f4-c5c2-56ae88d114d7"
      },
      "outputs": [
        {
          "output_type": "stream",
          "name": "stdout",
          "text": [
            "Cloning into 'fruit_classifier_LR_VGG16'...\n",
            "remote: Enumerating objects: 17839, done.\u001b[K\n",
            "remote: Counting objects: 100% (876/876), done.\u001b[K\n",
            "remote: Compressing objects: 100% (857/857), done.\u001b[K\n",
            "remote: Total 17839 (delta 25), reused 862 (delta 15), pack-reused 16963\u001b[K\n",
            "Receiving objects: 100% (17839/17839), 79.24 MiB | 31.60 MiB/s, done.\n",
            "Resolving deltas: 100% (27/27), done.\n",
            "Updating files: 100% (16871/16871), done.\n"
          ]
        }
      ],
      "source": [
        "!git clone https://github.com/alekswael/fruit_classifier_LR_VGG16"
      ]
    },
    {
      "cell_type": "code",
      "source": [
        "import shutil\n",
        "\n",
        "# Define o caminho da pasta que você deseja excluir\n",
        "pasta_a_excluir = '/content/fruit_classifier_LR_VGG16'\n",
        "\n",
        "try:\n",
        "    # Tenta excluir a pasta e seu conteúdo\n",
        "    shutil.rmtree(pasta_a_excluir)\n",
        "    print(f'A pasta {pasta_a_excluir} foi excluída com sucesso.')\n",
        "except Exception as e:\n",
        "    print(f\"Ocorreu um erro ao excluir a pasta {pasta_a_excluir}: {e}\")\n"
      ],
      "metadata": {
        "colab": {
          "base_uri": "https://localhost:8080/"
        },
        "id": "orBdlguFqwfJ",
        "outputId": "b8e5ddd2-be17-4512-b4f6-799f68624227"
      },
      "execution_count": 2,
      "outputs": [
        {
          "output_type": "stream",
          "name": "stdout",
          "text": [
            "A pasta /content/fruit_classifier_LR_VGG16 foi excluída com sucesso.\n"
          ]
        }
      ]
    }
  ]
}