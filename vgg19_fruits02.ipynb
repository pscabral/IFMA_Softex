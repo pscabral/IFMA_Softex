{
  "nbformat": 4,
  "nbformat_minor": 0,
  "metadata": {
    "colab": {
      "provenance": [],
      "authorship_tag": "ABX9TyM2QlhiAHBCCT/HW/aUbhQN",
      "include_colab_link": true
    },
    "kernelspec": {
      "name": "python3",
      "display_name": "Python 3"
    },
    "language_info": {
      "name": "python"
    }
  },
  "cells": [
    {
      "cell_type": "markdown",
      "metadata": {
        "id": "view-in-github",
        "colab_type": "text"
      },
      "source": [
        "<a href=\"https://colab.research.google.com/github/pscabral/IFMA_Softex/blob/main/vgg19_fruits02.ipynb\" target=\"_parent\"><img src=\"https://colab.research.google.com/assets/colab-badge.svg\" alt=\"Open In Colab\"/></a>"
      ]
    },
    {
      "cell_type": "code",
      "source": [
        "import tensorflow as tf\n",
        "from tensorflow.keras.preprocessing.image import ImageDataGenerator, img_to_array, load_img\n",
        "from tensorflow.keras.models import Sequential\n",
        "from tensorflow.keras.layers import Dense\n",
        "from tensorflow.keras.applications.vgg16 import VGG16\n",
        "import matplotlib.pyplot as plt\n",
        "from glob import glob"
      ],
      "metadata": {
        "id": "_9ZMWtYK48PR"
      },
      "execution_count": 3,
      "outputs": []
    },
    {
      "cell_type": "code",
      "source": [
        "test_path = '/content/fruits_v2/test'\n",
        "train_path = '/content/fruits_v2/train'\n",
        "val_path = '/content/fruits_v2/val'"
      ],
      "metadata": {
        "id": "XBlpbi3t4_6R"
      },
      "execution_count": 86,
      "outputs": []
    },
    {
      "cell_type": "code",
      "source": [
        "img = load_img(train_path + \"/Apple Braeburn/Apple Braeburn_0.jpg\")\n",
        "plt.imshow(img)\n",
        "plt.axis(\"off\")\n",
        "plt.show()"
      ],
      "metadata": {
        "colab": {
          "base_uri": "https://localhost:8080/",
          "height": 406
        },
        "id": "RIjJ7I9d5QFT",
        "outputId": "242fb621-568c-431c-b13c-1afebfb8210e"
      },
      "execution_count": 87,
      "outputs": [
        {
          "output_type": "display_data",
          "data": {
            "text/plain": [
              "<Figure size 640x480 with 1 Axes>"
            ],
            "image/png": "[encoded data removed]"
          },
          "metadata": {}
        }
      ]
    },
    {
      "cell_type": "code",
      "source": [
        "x = img_to_array(img)\n",
        "print(x.shape)"
      ],
      "metadata": {
        "colab": {
          "base_uri": "https://localhost:8080/"
        },
        "id": "zNw1a87FAl2X",
        "outputId": "838abf7a-896c-478e-aa25-83edf0e54e42"
      },
      "execution_count": 88,
      "outputs": [
        {
          "output_type": "stream",
          "name": "stdout",
          "text": [
            "(100, 100, 3)\n"
          ]
        }
      ]
    },
    {
      "cell_type": "code",
      "source": [
        "numberOfClass = len(glob(train_path + \"/*\"))\n",
        "numberOfClass"
      ],
      "metadata": {
        "colab": {
          "base_uri": "https://localhost:8080/"
        },
        "id": "QY3H93qeArGg",
        "outputId": "47107033-3d0c-4d13-b263-81dd251d358b"
      },
      "execution_count": 89,
      "outputs": [
        {
          "output_type": "execute_result",
          "data": {
            "text/plain": [
              "33"
            ]
          },
          "metadata": {},
          "execution_count": 89
        }
      ]
    },
    {
      "cell_type": "code",
      "source": [
        "vgg = VGG16()"
      ],
      "metadata": {
        "id": "wvsO-QV0Aukq"
      },
      "execution_count": 90,
      "outputs": []
    },
    {
      "cell_type": "code",
      "source": [
        "print(vgg.summary())"
      ],
      "metadata": {
        "id": "bWuKraY1AzTv"
      },
      "execution_count": null,
      "outputs": []
    },
    {
      "cell_type": "code",
      "source": [
        "print(type(vgg))"
      ],
      "metadata": {
        "colab": {
          "base_uri": "https://localhost:8080/"
        },
        "id": "0TsoILiuA51I",
        "outputId": "0471594f-2eab-4d82-eb76-5b0628dfc0da"
      },
      "execution_count": 92,
      "outputs": [
        {
          "output_type": "stream",
          "name": "stdout",
          "text": [
            "<class 'keras.src.engine.functional.Functional'>\n"
          ]
        }
      ]
    },
    {
      "cell_type": "code",
      "source": [
        "vgg_layer_list = vgg.layers\n",
        "print(vgg_layer_list)"
      ],
      "metadata": {
        "colab": {
          "base_uri": "https://localhost:8080/"
        },
        "id": "__OESa9IA59U",
        "outputId": "2ad97bac-220d-4561-baa4-f068681063eb"
      },
      "execution_count": 93,
      "outputs": [
        {
          "output_type": "stream",
          "name": "stdout",
          "text": [
            "[<keras.src.engine.input_layer.InputLayer object at 0x7e41b30251e0>, <keras.src.layers.convolutional.conv2d.Conv2D object at 0x7e41c318d060>, <keras.src.layers.convolutional.conv2d.Conv2D object at 0x7e418d183ee0>, <keras.src.layers.pooling.max_pooling2d.MaxPooling2D object at 0x7e418cfb51e0>, <keras.src.layers.convolutional.conv2d.Conv2D object at 0x7e418cfb5900>, <keras.src.layers.convolutional.conv2d.Conv2D object at 0x7e418cfb5c60>, <keras.src.layers.pooling.max_pooling2d.MaxPooling2D object at 0x7e418cfb7100>, <keras.src.layers.convolutional.conv2d.Conv2D object at 0x7e418cfb7970>, <keras.src.layers.convolutional.conv2d.Conv2D object at 0x7e418cfb6860>, <keras.src.layers.convolutional.conv2d.Conv2D object at 0x7e41b330a3e0>, <keras.src.layers.pooling.max_pooling2d.MaxPooling2D object at 0x7e418d1804f0>, <keras.src.layers.convolutional.conv2d.Conv2D object at 0x7e418d183d90>, <keras.src.layers.convolutional.conv2d.Conv2D object at 0x7e418d182da0>, <keras.src.layers.convolutional.conv2d.Conv2D object at 0x7e418d183520>, <keras.src.layers.pooling.max_pooling2d.MaxPooling2D object at 0x7e418d180880>, <keras.src.layers.convolutional.conv2d.Conv2D object at 0x7e424d10cf40>, <keras.src.layers.convolutional.conv2d.Conv2D object at 0x7e418d1806a0>, <keras.src.layers.convolutional.conv2d.Conv2D object at 0x7e418cfb47c0>, <keras.src.layers.pooling.max_pooling2d.MaxPooling2D object at 0x7e418cfb7910>, <keras.src.layers.reshaping.flatten.Flatten object at 0x7e41c5264880>, <keras.src.layers.core.dense.Dense object at 0x7e41c318c340>, <keras.src.layers.core.dense.Dense object at 0x7e41b3026dd0>, <keras.src.layers.core.dense.Dense object at 0x7e41b3026740>]\n"
          ]
        }
      ]
    },
    {
      "cell_type": "code",
      "source": [
        "len(vgg_layer_list)"
      ],
      "metadata": {
        "colab": {
          "base_uri": "https://localhost:8080/"
        },
        "id": "E4yDb4wmBBbl",
        "outputId": "df3f89b7-7f44-4af2-b3de-0f4fdc57e652"
      },
      "execution_count": 94,
      "outputs": [
        {
          "output_type": "execute_result",
          "data": {
            "text/plain": [
              "23"
            ]
          },
          "metadata": {},
          "execution_count": 94
        }
      ]
    },
    {
      "cell_type": "code",
      "source": [
        "model = Sequential()\n",
        "for i in range(len(vgg_layer_list)-1):\n",
        "    model.add(vgg_layer_list[i])"
      ],
      "metadata": {
        "id": "-oZaFU0FBBme"
      },
      "execution_count": 95,
      "outputs": []
    },
    {
      "cell_type": "code",
      "source": [
        "print(model.summary())"
      ],
      "metadata": {
        "id": "AG95hg50BJvo"
      },
      "execution_count": null,
      "outputs": []
    },
    {
      "cell_type": "code",
      "source": [
        "for layers in model.layers:\n",
        "    layers.trainable = False\n",
        "\n",
        "model.add(Dense(numberOfClass, activation = \"softmax\"))\n",
        "\n",
        "print(model.summary())\n",
        "\n",
        "model.compile(loss = \"categorical_crossentropy\",\n",
        "             optimizer = \"rmsprop\",\n",
        "             metrics = [\"accuracy\"])"
      ],
      "metadata": {
        "id": "68YC2kVoBPwD"
      },
      "execution_count": null,
      "outputs": []
    },
    {
      "cell_type": "code",
      "source": [
        "train_data = ImageDataGenerator().flow_from_directory(train_path, target_size=(224, 224), class_mode='categorical')\n",
        "test_data = ImageDataGenerator().flow_from_directory(test_path, target_size=(224, 224), class_mode='categorical')\n",
        "batch_size = 32\n"
      ],
      "metadata": {
        "colab": {
          "base_uri": "https://localhost:8080/"
        },
        "id": "x9TlNdgnBSoJ",
        "outputId": "561a3c95-7b90-4872-c119-08513e3d395c"
      },
      "execution_count": 98,
      "outputs": [
        {
          "output_type": "stream",
          "name": "stdout",
          "text": [
            "Found 11787 images belonging to 33 classes.\n",
            "Found 1706 images belonging to 33 classes.\n"
          ]
        }
      ]
    },
    {
      "cell_type": "code",
      "source": [
        "hist = model.fit_generator(train_data,\n",
        "                          steps_per_epoch = 1600 // batch_size,\n",
        "                          epochs = 25,\n",
        "                          validation_data = test_data,\n",
        "                          validation_steps = 800 // batch_size)"
      ],
      "metadata": {
        "colab": {
          "base_uri": "https://localhost:8080/"
        },
        "id": "NI0qlbr7GL_f",
        "outputId": "20b69a9f-1df9-47f0-d987-88eef894d96a"
      },
      "execution_count": null,
      "outputs": [
        {
          "output_type": "stream",
          "name": "stdout",
          "text": [
            "Epoch 1/25\n"
          ]
        },
        {
          "output_type": "stream",
          "name": "stderr",
          "text": [
            "<ipython-input-99-95a565917a5d>:1: UserWarning: `Model.fit_generator` is deprecated and will be removed in a future version. Please use `Model.fit`, which supports generators.\n",
            "  hist = model.fit_generator(train_data,\n"
          ]
        },
        {
          "output_type": "stream",
          "name": "stdout",
          "text": [
            "38/50 [=====================>........] - ETA: 3:57 - loss: 1.7189 - accuracy: 0.6933"
          ]
        }
      ]
    },
    {
      "cell_type": "code",
      "source": [
        "model.save_weights(\"model_fruits_v2.h5\")"
      ],
      "metadata": {
        "id": "hrGqRFoyIM81"
      },
      "execution_count": null,
      "outputs": []
    },
    {
      "cell_type": "code",
      "source": [
        "print(hist.history.keys())\n",
        "plt.plot(hist.history[\"loss\"], label = \"training loss\")\n",
        "plt.plot(hist.history[\"val_loss\"], label = \"validation loss\")\n",
        "plt.legend()\n",
        "plt.show()\n",
        "plt.figure()\n",
        "plt.plot(hist.history[\"accuracy\"], label = \"training acc\")\n",
        "plt.plot(hist.history[\"val_accuracy\"], label = \"validation acc\")\n",
        "plt.legend()\n",
        "plt.show()\n",
        "plt.figure()"
      ],
      "metadata": {
        "id": "qbrHhwVXIT__"
      },
      "execution_count": null,
      "outputs": []
    },
    {
      "cell_type": "code",
      "source": [
        "import json, codecs\n",
        "\n",
        "with open(\"model_model_fruits_v2.json\",\"w\") as f:\n",
        "    json.dump(hist.history,f)"
      ],
      "metadata": {
        "id": "rzoltjXiIXBH"
      },
      "execution_count": null,
      "outputs": []
    },
    {
      "cell_type": "code",
      "source": [
        "with codecs.open(\"model_model_fruits_v2.json\",\"r\",encoding= \"utf-8\") as f:\n",
        "    n = json.loads(f.read())"
      ],
      "metadata": {
        "id": "0I1j04YIIZiD"
      },
      "execution_count": null,
      "outputs": []
    },
    {
      "cell_type": "code",
      "source": [
        "with codecs.open(\"model_model_fruits_v2.json\",\"r\",encoding= \"utf-8\") as f:\n",
        "    n = json.loads(f.read())"
      ],
      "metadata": {
        "id": "BhsKFzMiIdBW"
      },
      "execution_count": null,
      "outputs": []
    },
    {
      "cell_type": "code",
      "source": [
        "print(hist.history.keys())\n",
        "plt.plot(n[\"loss\"], label = \"training loss\")\n",
        "plt.plot(n[\"val_loss\"], label = \"validation loss\")\n",
        "plt.legend()\n",
        "plt.show()\n",
        "plt.figure()\n",
        "plt.plot(n[\"accuracy\"], label = \"training acc\")\n",
        "plt.plot(n[\"val_accuracy\"], label = \"validation acc\")\n",
        "plt.legend()\n",
        "plt.show()\n",
        "plt.figure()"
      ],
      "metadata": {
        "id": "xQW9vVs4IlhU"
      },
      "execution_count": null,
      "outputs": []
    }
  ]
}