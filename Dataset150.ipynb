{
  "nbformat": 4,
  "nbformat_minor": 0,
  "metadata": {
    "colab": {
      "provenance": [],
      "authorship_tag": "ABX9TyMgMBxaUbjwm4EoJYOeQ13E",
      "include_colab_link": true
    },
    "kernelspec": {
      "name": "python3",
      "display_name": "Python 3"
    },
    "language_info": {
      "name": "python"
    }
  },
  "cells": [
    {
      "cell_type": "markdown",
      "metadata": {
        "id": "view-in-github",
        "colab_type": "text"
      },
      "source": [
        "<a href=\"https://colab.research.google.com/github/pscabral/IFMA_Softex/blob/main/Dataset150.ipynb\" target=\"_parent\"><img src=\"https://colab.research.google.com/assets/colab-badge.svg\" alt=\"Open In Colab\"/></a>"
      ]
    },
    {
      "cell_type": "code",
      "execution_count": 1,
      "metadata": {
        "colab": {
          "base_uri": "https://localhost:8080/"
        },
        "id": "eb-NTB2TxxAa",
        "outputId": "18cccd2c-1a6f-4b53-b35a-64757d8ef796"
      },
      "outputs": [
        {
          "output_type": "stream",
          "name": "stdout",
          "text": [
            "Cloning into 'fruits-fresh-rotten-classification'...\n",
            "remote: Enumerating objects: 13804, done.\u001b[K\n",
            "remote: Counting objects: 100% (186/186), done.\u001b[K\n",
            "remote: Compressing objects: 100% (171/171), done.\u001b[K\n",
            "remote: Total 13804 (delta 55), reused 106 (delta 15), pack-reused 13618\u001b[K\n",
            "Receiving objects: 100% (13804/13804), 1.79 GiB | 32.95 MiB/s, done.\n",
            "Resolving deltas: 100% (57/57), done.\n",
            "Updating files: 100% (13693/13693), done.\n"
          ]
        }
      ],
      "source": [
        "!git clone https://github.com/Bangkit-JKT2-D/fruits-fresh-rotten-classification.git"
      ]
    },
    {
      "cell_type": "code",
      "source": [
        "new_path = '/content/fruits-fresh-rotten-classification'\n",
        "for dirname, _, filenames in os.walk(new_path):\n",
        "    for filename in filenames:\n",
        "        print(os.path.join(dirname, filename))"
      ],
      "metadata": {
        "id": "--Woew-IyQy7"
      },
      "execution_count": null,
      "outputs": []
    },
    {
      "cell_type": "code",
      "source": [
        "train_path = '/content/fruits-fresh-rotten-classification/Datasets/train'\n",
        "test_path = '/content/fruits-fresh-rotten-classification/Datasets/test'"
      ],
      "metadata": {
        "id": "3EAiMDno2RaE"
      },
      "execution_count": 40,
      "outputs": []
    }
  ]
}