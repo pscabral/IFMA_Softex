{
  "nbformat": 4,
  "nbformat_minor": 0,
  "metadata": {
    "colab": {
      "provenance": [],
      "authorship_tag": "ABX9TyMhIPyuZlm7L6puWjpFVqlq",
      "include_colab_link": true
    },
    "kernelspec": {
      "name": "python3",
      "display_name": "Python 3"
    },
    "language_info": {
      "name": "python"
    }
  },
  "cells": [
    {
      "cell_type": "markdown",
      "metadata": {
        "id": "view-in-github",
        "colab_type": "text"
      },
      "source": [
        "<a href=\"https://colab.research.google.com/github/pscabral/IFMA_Softex/blob/main/Dataset151.ipynb\" target=\"_parent\"><img src=\"https://colab.research.google.com/assets/colab-badge.svg\" alt=\"Open In Colab\"/></a>"
      ]
    },
    {
      "cell_type": "code",
      "execution_count": null,
      "metadata": {
        "id": "XBd6srJwQplU"
      },
      "outputs": [],
      "source": [
        "!pip install gdown\n",
        "import gdown\n",
        "\n",
        "# Especifique o ID do arquivo e o nome do arquivo de saída\n",
        "file_id = '1FTlOQ7s-HmbaOPEn15Rkw8p2GCRIBrCd'\n",
        "output = 'seu_arquivo.zip'\n",
        "\n",
        "# Baixe o arquivo do Google Drive\n",
        "gdown.download(f'https://drive.google.com/uc?id={file_id}', output, quiet=False)"
      ]
    },
    {
      "cell_type": "code",
      "source": [
        "!unzip seu_arquivo.zip"
      ],
      "metadata": {
        "id": "d_LRs74JRH7R"
      },
      "execution_count": null,
      "outputs": []
    }
  ]
}